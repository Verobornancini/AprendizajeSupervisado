{
 "cells": [
  {
   "cell_type": "markdown",
   "metadata": {},
   "source": [
    "<center>\n",
    "<h4>Universidad Nacional de Córdoba - Facultad de Matemática, Astronomía, Física y Computación</h4>\n",
    "<h3>Diplomatura en Ciencia de Datos, Aprendizaje Automático y sus Aplicaciones</h3>\n",
    "</center>"
   ]
  },
  {
   "cell_type": "markdown",
   "metadata": {},
   "source": [
    "<h1> Aprendizaje Supervisado -> Grupo 5 Cohorte 2</h1>\n",
    "\n",
    "Patricia Loto\n",
    "\n",
    "Sandra Monica Olariaga\n",
    "\n",
    "Veronica Bornancini\n",
    "\n",
    "Fernandez María Soledad   \n"
   ]
  },
  {
   "cell_type": "markdown",
   "metadata": {},
   "source": [
    "# Diplodatos Kaggle Competition"
   ]
  },
  {
   "cell_type": "markdown",
   "metadata": {},
   "source": [
    "We present this peace of code to create the baseline for the competition, and as an example of how to deal with these kind of problems. The main goals are that you:\n",
    "\n",
    "1. Learn\n",
    "2. Try different models and see which one fits the best the given data\n",
    "3. Get a higher score than the given one in the current baseline example\n",
    "4. Try to get the highest score in the class :)"
   ]
  },
  {
   "cell_type": "code",
   "execution_count": 1,
   "metadata": {},
   "outputs": [],
   "source": [
    "# Import the required packages\n",
    "import os\n",
    "import math\n",
    "import numpy as np\n",
    "import pandas as pd\n",
    "import matplotlib.pyplot as plt\n",
    "import scipy.stats as stats \n",
    "import seaborn as sns \n",
    "import warnings\n",
    "\n",
    "from sklearn.model_selection import train_test_split \n",
    "#from sklearn.neighbors import KNeighborsRegressor\n",
    "#from sklearn.tree import DecisionTreeRegressor\n",
    "from sklearn.ensemble import RandomForestClassifier\n",
    "#from sklearn.ensemble import ExtraTreesRegressor\n",
    "#from xgboost import XGBRegressor\n",
    "import xgboost as xgb\n",
    "from IPython.display import display_html\n",
    "from sklearn.tree import DecisionTreeClassifier as DT\n",
    "from sklearn.model_selection import GridSearchCV\n",
    "from sklearn.metrics import accuracy_score\n",
    "from sklearn.feature_extraction.text import TfidfVectorizer\n",
    "from sklearn.naive_bayes import MultinomialNB\n",
    "from sklearn.pipeline import make_pipeline\n",
    "from sklearn.metrics import mean_squared_error\n",
    "from imblearn.ensemble import BalancedBaggingClassifier"
   ]
  },
  {
   "cell_type": "markdown",
   "metadata": {},
   "source": [
    "Read the *original* dataset..."
   ]
  },
  {
   "cell_type": "code",
   "execution_count": 2,
   "metadata": {},
   "outputs": [],
   "source": [
    "original_df = pd.read_csv('../data/train.csv')\n",
    "#original_df = pd.read_csv(r'E:\\anaconda3\\envs\\aprendizajesupervisado\\train.csv')"
   ]
  },
  {
   "cell_type": "markdown",
   "metadata": {},
   "source": [
    "### 1. Learn"
   ]
  },
  {
   "cell_type": "markdown",
   "metadata": {},
   "source": [
    "#### 1.1 Verificamos columnas con sus datos"
   ]
  },
  {
   "cell_type": "code",
   "execution_count": 3,
   "metadata": {},
   "outputs": [
    {
     "data": {
      "text/plain": [
       "Index(['TripType', 'VisitNumber', 'Weekday', 'Upc', 'ScanCount',\n",
       "       'DepartmentDescription', 'FinelineNumber'],\n",
       "      dtype='object')"
      ]
     },
     "execution_count": 3,
     "metadata": {},
     "output_type": "execute_result"
    }
   ],
   "source": [
    "# 1) Averiguamos el nombre de cada variable presente en el dataset\n",
    "original_df.columns"
   ]
  },
  {
   "cell_type": "code",
   "execution_count": 4,
   "metadata": {},
   "outputs": [
    {
     "data": {
      "text/html": [
       "<div>\n",
       "<style>\n",
       "    .dataframe thead tr:only-child th {\n",
       "        text-align: right;\n",
       "    }\n",
       "\n",
       "    .dataframe thead th {\n",
       "        text-align: left;\n",
       "    }\n",
       "\n",
       "    .dataframe tbody tr th {\n",
       "        vertical-align: top;\n",
       "    }\n",
       "</style>\n",
       "<table border=\"1\" class=\"dataframe\">\n",
       "  <thead>\n",
       "    <tr style=\"text-align: right;\">\n",
       "      <th></th>\n",
       "      <th>TripType</th>\n",
       "      <th>VisitNumber</th>\n",
       "      <th>Weekday</th>\n",
       "      <th>Upc</th>\n",
       "      <th>ScanCount</th>\n",
       "      <th>DepartmentDescription</th>\n",
       "      <th>FinelineNumber</th>\n",
       "    </tr>\n",
       "  </thead>\n",
       "  <tbody>\n",
       "    <tr>\n",
       "      <th>0</th>\n",
       "      <td>999</td>\n",
       "      <td>5</td>\n",
       "      <td>Friday</td>\n",
       "      <td>6.811315e+10</td>\n",
       "      <td>-1</td>\n",
       "      <td>FINANCIAL SERVICES</td>\n",
       "      <td>1000.0</td>\n",
       "    </tr>\n",
       "    <tr>\n",
       "      <th>1</th>\n",
       "      <td>8</td>\n",
       "      <td>9</td>\n",
       "      <td>Friday</td>\n",
       "      <td>1.070081e+09</td>\n",
       "      <td>1</td>\n",
       "      <td>IMPULSE MERCHANDISE</td>\n",
       "      <td>115.0</td>\n",
       "    </tr>\n",
       "    <tr>\n",
       "      <th>2</th>\n",
       "      <td>8</td>\n",
       "      <td>9</td>\n",
       "      <td>Friday</td>\n",
       "      <td>3.107000e+03</td>\n",
       "      <td>1</td>\n",
       "      <td>PRODUCE</td>\n",
       "      <td>103.0</td>\n",
       "    </tr>\n",
       "    <tr>\n",
       "      <th>3</th>\n",
       "      <td>8</td>\n",
       "      <td>9</td>\n",
       "      <td>Friday</td>\n",
       "      <td>4.011000e+03</td>\n",
       "      <td>1</td>\n",
       "      <td>PRODUCE</td>\n",
       "      <td>5501.0</td>\n",
       "    </tr>\n",
       "    <tr>\n",
       "      <th>4</th>\n",
       "      <td>8</td>\n",
       "      <td>10</td>\n",
       "      <td>Friday</td>\n",
       "      <td>6.414410e+09</td>\n",
       "      <td>1</td>\n",
       "      <td>DSD GROCERY</td>\n",
       "      <td>2008.0</td>\n",
       "    </tr>\n",
       "  </tbody>\n",
       "</table>\n",
       "</div>"
      ],
      "text/plain": [
       "   TripType  VisitNumber Weekday           Upc  ScanCount  \\\n",
       "0       999            5  Friday  6.811315e+10         -1   \n",
       "1         8            9  Friday  1.070081e+09          1   \n",
       "2         8            9  Friday  3.107000e+03          1   \n",
       "3         8            9  Friday  4.011000e+03          1   \n",
       "4         8           10  Friday  6.414410e+09          1   \n",
       "\n",
       "  DepartmentDescription  FinelineNumber  \n",
       "0    FINANCIAL SERVICES          1000.0  \n",
       "1   IMPULSE MERCHANDISE           115.0  \n",
       "2               PRODUCE           103.0  \n",
       "3               PRODUCE          5501.0  \n",
       "4           DSD GROCERY          2008.0  "
      ]
     },
     "execution_count": 4,
     "metadata": {},
     "output_type": "execute_result"
    }
   ],
   "source": [
    "# 2) Inspeccionamos las primeras filas del dataset\n",
    "original_df[:5]"
   ]
  },
  {
   "cell_type": "markdown",
   "metadata": {},
   "source": [
    "* **TripType** is the column that we should predict. That column is not present in the test set"
   ]
  },
  {
   "cell_type": "code",
   "execution_count": 5,
   "metadata": {},
   "outputs": [
    {
     "data": {
      "text/plain": [
       "TripType                   int64\n",
       "VisitNumber                int64\n",
       "Weekday                   object\n",
       "Upc                      float64\n",
       "ScanCount                  int64\n",
       "DepartmentDescription     object\n",
       "FinelineNumber           float64\n",
       "dtype: object"
      ]
     },
     "execution_count": 5,
     "metadata": {},
     "output_type": "execute_result"
    }
   ],
   "source": [
    "# 3) Consultamos el tipo de dato de cada variable\n",
    "original_df.dtypes"
   ]
  },
  {
   "cell_type": "code",
   "execution_count": 6,
   "metadata": {},
   "outputs": [
    {
     "data": {
      "text/html": [
       "<div>\n",
       "<style>\n",
       "    .dataframe thead tr:only-child th {\n",
       "        text-align: right;\n",
       "    }\n",
       "\n",
       "    .dataframe thead th {\n",
       "        text-align: left;\n",
       "    }\n",
       "\n",
       "    .dataframe tbody tr th {\n",
       "        vertical-align: top;\n",
       "    }\n",
       "</style>\n",
       "<table border=\"1\" class=\"dataframe\">\n",
       "  <thead>\n",
       "    <tr style=\"text-align: right;\">\n",
       "      <th></th>\n",
       "      <th>TripType</th>\n",
       "      <th>VisitNumber</th>\n",
       "      <th>Upc</th>\n",
       "      <th>ScanCount</th>\n",
       "      <th>FinelineNumber</th>\n",
       "    </tr>\n",
       "  </thead>\n",
       "  <tbody>\n",
       "    <tr>\n",
       "      <th>count</th>\n",
       "      <td>453411.0</td>\n",
       "      <td>453411.0</td>\n",
       "      <td>4.505590e+05</td>\n",
       "      <td>453411.0</td>\n",
       "      <td>450559.0</td>\n",
       "    </tr>\n",
       "    <tr>\n",
       "      <th>mean</th>\n",
       "      <td>58.0</td>\n",
       "      <td>95910.0</td>\n",
       "      <td>3.075243e+10</td>\n",
       "      <td>1.0</td>\n",
       "      <td>3727.0</td>\n",
       "    </tr>\n",
       "    <tr>\n",
       "      <th>std</th>\n",
       "      <td>156.0</td>\n",
       "      <td>55400.0</td>\n",
       "      <td>9.163940e+10</td>\n",
       "      <td>1.0</td>\n",
       "      <td>2780.0</td>\n",
       "    </tr>\n",
       "    <tr>\n",
       "      <th>min</th>\n",
       "      <td>3.0</td>\n",
       "      <td>5.0</td>\n",
       "      <td>8.340000e+02</td>\n",
       "      <td>-10.0</td>\n",
       "      <td>0.0</td>\n",
       "    </tr>\n",
       "    <tr>\n",
       "      <th>25%</th>\n",
       "      <td>27.0</td>\n",
       "      <td>49390.0</td>\n",
       "      <td>3.400004e+09</td>\n",
       "      <td>1.0</td>\n",
       "      <td>1404.0</td>\n",
       "    </tr>\n",
       "    <tr>\n",
       "      <th>50%</th>\n",
       "      <td>39.0</td>\n",
       "      <td>96781.0</td>\n",
       "      <td>7.056082e+09</td>\n",
       "      <td>1.0</td>\n",
       "      <td>3352.0</td>\n",
       "    </tr>\n",
       "    <tr>\n",
       "      <th>75%</th>\n",
       "      <td>40.0</td>\n",
       "      <td>143930.0</td>\n",
       "      <td>3.013201e+10</td>\n",
       "      <td>1.0</td>\n",
       "      <td>5501.0</td>\n",
       "    </tr>\n",
       "    <tr>\n",
       "      <th>max</th>\n",
       "      <td>999.0</td>\n",
       "      <td>191347.0</td>\n",
       "      <td>9.789707e+11</td>\n",
       "      <td>71.0</td>\n",
       "      <td>9998.0</td>\n",
       "    </tr>\n",
       "  </tbody>\n",
       "</table>\n",
       "</div>"
      ],
      "text/plain": [
       "       TripType  VisitNumber           Upc  ScanCount  FinelineNumber\n",
       "count  453411.0     453411.0  4.505590e+05   453411.0        450559.0\n",
       "mean       58.0      95910.0  3.075243e+10        1.0          3727.0\n",
       "std       156.0      55400.0  9.163940e+10        1.0          2780.0\n",
       "min         3.0          5.0  8.340000e+02      -10.0             0.0\n",
       "25%        27.0      49390.0  3.400004e+09        1.0          1404.0\n",
       "50%        39.0      96781.0  7.056082e+09        1.0          3352.0\n",
       "75%        40.0     143930.0  3.013201e+10        1.0          5501.0\n",
       "max       999.0     191347.0  9.789707e+11       71.0          9998.0"
      ]
     },
     "execution_count": 6,
     "metadata": {},
     "output_type": "execute_result"
    }
   ],
   "source": [
    "# 4) Pedimos una descripción de los datos. Por defecto se muestra la información de las variables numéricas\n",
    "original_df.describe().round()"
   ]
  },
  {
   "cell_type": "code",
   "execution_count": 7,
   "metadata": {},
   "outputs": [
    {
     "data": {
      "text/html": [
       "<div>\n",
       "<style>\n",
       "    .dataframe thead tr:only-child th {\n",
       "        text-align: right;\n",
       "    }\n",
       "\n",
       "    .dataframe thead th {\n",
       "        text-align: left;\n",
       "    }\n",
       "\n",
       "    .dataframe tbody tr th {\n",
       "        vertical-align: top;\n",
       "    }\n",
       "</style>\n",
       "<table border=\"1\" class=\"dataframe\">\n",
       "  <thead>\n",
       "    <tr style=\"text-align: right;\">\n",
       "      <th></th>\n",
       "      <th>Weekday</th>\n",
       "      <th>DepartmentDescription</th>\n",
       "    </tr>\n",
       "  </thead>\n",
       "  <tbody>\n",
       "    <tr>\n",
       "      <th>count</th>\n",
       "      <td>453411</td>\n",
       "      <td>452439</td>\n",
       "    </tr>\n",
       "    <tr>\n",
       "      <th>unique</th>\n",
       "      <td>7</td>\n",
       "      <td>68</td>\n",
       "    </tr>\n",
       "    <tr>\n",
       "      <th>top</th>\n",
       "      <td>Sunday</td>\n",
       "      <td>GROCERY DRY GOODS</td>\n",
       "    </tr>\n",
       "    <tr>\n",
       "      <th>freq</th>\n",
       "      <td>94602</td>\n",
       "      <td>49134</td>\n",
       "    </tr>\n",
       "  </tbody>\n",
       "</table>\n",
       "</div>"
      ],
      "text/plain": [
       "       Weekday DepartmentDescription\n",
       "count   453411                452439\n",
       "unique       7                    68\n",
       "top     Sunday     GROCERY DRY GOODS\n",
       "freq     94602                 49134"
      ]
     },
     "execution_count": 7,
     "metadata": {},
     "output_type": "execute_result"
    }
   ],
   "source": [
    "# 5) Como tenemos variables tipo Object, pedimos ver un resumen del resto de los datos (no numéricos)\n",
    "original_df.describe(include=['object'])"
   ]
  },
  {
   "cell_type": "code",
   "execution_count": 8,
   "metadata": {},
   "outputs": [
    {
     "data": {
      "text/plain": [
       "{'Friday', 'Monday', 'Saturday', 'Sunday', 'Thursday', 'Tuesday', 'Wednesday'}"
      ]
     },
     "execution_count": 8,
     "metadata": {},
     "output_type": "execute_result"
    }
   ],
   "source": [
    "# 6) Averiguamos los posibles valores que toman las variables tipo Object\n",
    "# Variable Weekday\n",
    "set(original_df.Weekday)"
   ]
  },
  {
   "cell_type": "code",
   "execution_count": 9,
   "metadata": {},
   "outputs": [
    {
     "data": {
      "text/plain": [
       "{'1-HR PHOTO',\n",
       " 'ACCESSORIES',\n",
       " 'AUTOMOTIVE',\n",
       " 'BAKERY',\n",
       " 'BATH AND SHOWER',\n",
       " 'BEAUTY',\n",
       " 'BEDDING',\n",
       " 'BOOKS AND MAGAZINES',\n",
       " 'BOYS WEAR',\n",
       " 'BRAS & SHAPEWEAR',\n",
       " 'CAMERAS AND SUPPLIES',\n",
       " 'CANDY, TOBACCO, COOKIES',\n",
       " 'CELEBRATION',\n",
       " 'COMM BREAD',\n",
       " 'CONCEPT STORES',\n",
       " 'COOK AND DINE',\n",
       " 'DAIRY',\n",
       " 'DSD GROCERY',\n",
       " 'ELECTRONICS',\n",
       " 'FABRICS AND CRAFTS',\n",
       " 'FINANCIAL SERVICES',\n",
       " 'FROZEN FOODS',\n",
       " 'FURNITURE',\n",
       " 'GIRLS WEAR, 4-6X  AND 7-14',\n",
       " 'GROCERY DRY GOODS',\n",
       " 'HARDWARE',\n",
       " 'HEALTH AND BEAUTY AIDS',\n",
       " 'HOME DECOR',\n",
       " 'HOME MANAGEMENT',\n",
       " 'HORTICULTURE AND ACCESS',\n",
       " 'HOUSEHOLD CHEMICALS/SUPP',\n",
       " 'HOUSEHOLD PAPER GOODS',\n",
       " 'IMPULSE MERCHANDISE',\n",
       " 'INFANT APPAREL',\n",
       " 'INFANT CONSUMABLE HARDLINES',\n",
       " 'JEWELRY AND SUNGLASSES',\n",
       " 'LADIES SOCKS',\n",
       " 'LADIESWEAR',\n",
       " 'LARGE HOUSEHOLD GOODS',\n",
       " 'LAWN AND GARDEN',\n",
       " 'LIQUOR,WINE,BEER',\n",
       " 'MEAT - FRESH & FROZEN',\n",
       " 'MEDIA AND GAMING',\n",
       " 'MENS WEAR',\n",
       " 'MENSWEAR',\n",
       " 'OFFICE SUPPLIES',\n",
       " 'OPTICAL - FRAMES',\n",
       " 'OPTICAL - LENSES',\n",
       " 'OTHER DEPARTMENTS',\n",
       " 'PAINT AND ACCESSORIES',\n",
       " 'PERSONAL CARE',\n",
       " 'PETS AND SUPPLIES',\n",
       " 'PHARMACY OTC',\n",
       " 'PHARMACY RX',\n",
       " 'PLAYERS AND ELECTRONICS',\n",
       " 'PLUS AND MATERNITY',\n",
       " 'PRE PACKED DELI',\n",
       " 'PRODUCE',\n",
       " 'SEAFOOD',\n",
       " 'SEASONAL',\n",
       " 'SERVICE DELI',\n",
       " 'SHEER HOSIERY',\n",
       " 'SHOES',\n",
       " 'SLEEPWEAR/FOUNDATIONS',\n",
       " 'SPORTING GOODS',\n",
       " 'SWIMWEAR/OUTERWEAR',\n",
       " 'TOYS',\n",
       " 'WIRELESS',\n",
       " nan}"
      ]
     },
     "execution_count": 9,
     "metadata": {},
     "output_type": "execute_result"
    }
   ],
   "source": [
    "# Variable DepartmentDescription\n",
    "set(original_df.DepartmentDescription)"
   ]
  },
  {
   "cell_type": "code",
   "execution_count": 10,
   "metadata": {},
   "outputs": [
    {
     "data": {
      "text/html": [
       "<style  type=\"text/css\" >\n",
       "</style>  \n",
       "<table id=\"T_8342142e_e94a_11ea_95fd_20689d417144\" style='display:inline;padding-left:20px;'><caption>Cantidad por TRIPTYPE</caption> \n",
       "<thead>    <tr> \n",
       "        <th class=\"blank level0\" ></th> \n",
       "        <th class=\"col_heading level0 col0\" >TripType</th> \n",
       "    </tr></thead> \n",
       "<tbody>    <tr> \n",
       "        <th id=\"T_8342142e_e94a_11ea_95fd_20689d417144level0_row0\" class=\"row_heading level0 row0\" >14</th> \n",
       "        <td id=\"T_8342142e_e94a_11ea_95fd_20689d417144row0_col0\" class=\"data row0 col0\" >4</td> \n",
       "    </tr>    <tr> \n",
       "        <th id=\"T_8342142e_e94a_11ea_95fd_20689d417144level0_row1\" class=\"row_heading level0 row1\" >23</th> \n",
       "        <td id=\"T_8342142e_e94a_11ea_95fd_20689d417144row1_col0\" class=\"data row1 col0\" >98</td> \n",
       "    </tr>    <tr> \n",
       "        <th id=\"T_8342142e_e94a_11ea_95fd_20689d417144level0_row2\" class=\"row_heading level0 row2\" >12</th> \n",
       "        <td id=\"T_8342142e_e94a_11ea_95fd_20689d417144row2_col0\" class=\"data row2 col0\" >187</td> \n",
       "    </tr>    <tr> \n",
       "        <th id=\"T_8342142e_e94a_11ea_95fd_20689d417144level0_row3\" class=\"row_heading level0 row3\" >4</th> \n",
       "        <td id=\"T_8342142e_e94a_11ea_95fd_20689d417144row3_col0\" class=\"data row3 col0\" >245</td> \n",
       "    </tr>    <tr> \n",
       "        <th id=\"T_8342142e_e94a_11ea_95fd_20689d417144level0_row4\" class=\"row_heading level0 row4\" >19</th> \n",
       "        <td id=\"T_8342142e_e94a_11ea_95fd_20689d417144row4_col0\" class=\"data row4 col0\" >252</td> \n",
       "    </tr>    <tr> \n",
       "        <th id=\"T_8342142e_e94a_11ea_95fd_20689d417144level0_row5\" class=\"row_heading level0 row5\" >29</th> \n",
       "        <td id=\"T_8342142e_e94a_11ea_95fd_20689d417144row5_col0\" class=\"data row5 col0\" >313</td> \n",
       "    </tr>    <tr> \n",
       "        <th id=\"T_8342142e_e94a_11ea_95fd_20689d417144level0_row6\" class=\"row_heading level0 row6\" >28</th> \n",
       "        <td id=\"T_8342142e_e94a_11ea_95fd_20689d417144row6_col0\" class=\"data row6 col0\" >331</td> \n",
       "    </tr>    <tr> \n",
       "        <th id=\"T_8342142e_e94a_11ea_95fd_20689d417144level0_row7\" class=\"row_heading level0 row7\" >26</th> \n",
       "        <td id=\"T_8342142e_e94a_11ea_95fd_20689d417144row7_col0\" class=\"data row7 col0\" >355</td> \n",
       "    </tr>    <tr> \n",
       "        <th id=\"T_8342142e_e94a_11ea_95fd_20689d417144level0_row8\" class=\"row_heading level0 row8\" >18</th> \n",
       "        <td id=\"T_8342142e_e94a_11ea_95fd_20689d417144row8_col0\" class=\"data row8 col0\" >384</td> \n",
       "    </tr>    <tr> \n",
       "        <th id=\"T_8342142e_e94a_11ea_95fd_20689d417144level0_row9\" class=\"row_heading level0 row9\" >41</th> \n",
       "        <td id=\"T_8342142e_e94a_11ea_95fd_20689d417144row9_col0\" class=\"data row9 col0\" >412</td> \n",
       "    </tr>    <tr> \n",
       "        <th id=\"T_8342142e_e94a_11ea_95fd_20689d417144level0_row10\" class=\"row_heading level0 row10\" >31</th> \n",
       "        <td id=\"T_8342142e_e94a_11ea_95fd_20689d417144row10_col0\" class=\"data row10 col0\" >422</td> \n",
       "    </tr>    <tr> \n",
       "        <th id=\"T_8342142e_e94a_11ea_95fd_20689d417144level0_row11\" class=\"row_heading level0 row11\" >20</th> \n",
       "        <td id=\"T_8342142e_e94a_11ea_95fd_20689d417144row11_col0\" class=\"data row11 col0\" >440</td> \n",
       "    </tr>    <tr> \n",
       "        <th id=\"T_8342142e_e94a_11ea_95fd_20689d417144level0_row12\" class=\"row_heading level0 row12\" >21</th> \n",
       "        <td id=\"T_8342142e_e94a_11ea_95fd_20689d417144row12_col0\" class=\"data row12 col0\" >468</td> \n",
       "    </tr>    <tr> \n",
       "        <th id=\"T_8342142e_e94a_11ea_95fd_20689d417144level0_row13\" class=\"row_heading level0 row13\" >34</th> \n",
       "        <td id=\"T_8342142e_e94a_11ea_95fd_20689d417144row13_col0\" class=\"data row13 col0\" >494</td> \n",
       "    </tr>    <tr> \n",
       "        <th id=\"T_8342142e_e94a_11ea_95fd_20689d417144level0_row14\" class=\"row_heading level0 row14\" >27</th> \n",
       "        <td id=\"T_8342142e_e94a_11ea_95fd_20689d417144row14_col0\" class=\"data row14 col0\" >556</td> \n",
       "    </tr>    <tr> \n",
       "        <th id=\"T_8342142e_e94a_11ea_95fd_20689d417144level0_row15\" class=\"row_heading level0 row15\" >43</th> \n",
       "        <td id=\"T_8342142e_e94a_11ea_95fd_20689d417144row15_col0\" class=\"data row15 col0\" >615</td> \n",
       "    </tr>    <tr> \n",
       "        <th id=\"T_8342142e_e94a_11ea_95fd_20689d417144level0_row16\" class=\"row_heading level0 row16\" >22</th> \n",
       "        <td id=\"T_8342142e_e94a_11ea_95fd_20689d417144row16_col0\" class=\"data row16 col0\" >680</td> \n",
       "    </tr>    <tr> \n",
       "        <th id=\"T_8342142e_e94a_11ea_95fd_20689d417144level0_row17\" class=\"row_heading level0 row17\" >15</th> \n",
       "        <td id=\"T_8342142e_e94a_11ea_95fd_20689d417144row17_col0\" class=\"data row17 col0\" >683</td> \n",
       "    </tr>    <tr> \n",
       "        <th id=\"T_8342142e_e94a_11ea_95fd_20689d417144level0_row18\" class=\"row_heading level0 row18\" >30</th> \n",
       "        <td id=\"T_8342142e_e94a_11ea_95fd_20689d417144row18_col0\" class=\"data row18 col0\" >776</td> \n",
       "    </tr>    <tr> \n",
       "        <th id=\"T_8342142e_e94a_11ea_95fd_20689d417144level0_row19\" class=\"row_heading level0 row19\" >44</th> \n",
       "        <td id=\"T_8342142e_e94a_11ea_95fd_20689d417144row19_col0\" class=\"data row19 col0\" >816</td> \n",
       "    </tr>    <tr> \n",
       "        <th id=\"T_8342142e_e94a_11ea_95fd_20689d417144level0_row20\" class=\"row_heading level0 row20\" >6</th> \n",
       "        <td id=\"T_8342142e_e94a_11ea_95fd_20689d417144row20_col0\" class=\"data row20 col0\" >881</td> \n",
       "    </tr>    <tr> \n",
       "        <th id=\"T_8342142e_e94a_11ea_95fd_20689d417144level0_row21\" class=\"row_heading level0 row21\" >33</th> \n",
       "        <td id=\"T_8342142e_e94a_11ea_95fd_20689d417144row21_col0\" class=\"data row21 col0\" >923</td> \n",
       "    </tr>    <tr> \n",
       "        <th id=\"T_8342142e_e94a_11ea_95fd_20689d417144level0_row22\" class=\"row_heading level0 row22\" >42</th> \n",
       "        <td id=\"T_8342142e_e94a_11ea_95fd_20689d417144row22_col0\" class=\"data row22 col0\" >1303</td> \n",
       "    </tr>    <tr> \n",
       "        <th id=\"T_8342142e_e94a_11ea_95fd_20689d417144level0_row23\" class=\"row_heading level0 row23\" >32</th> \n",
       "        <td id=\"T_8342142e_e94a_11ea_95fd_20689d417144row23_col0\" class=\"data row23 col0\" >1363</td> \n",
       "    </tr>    <tr> \n",
       "        <th id=\"T_8342142e_e94a_11ea_95fd_20689d417144level0_row24\" class=\"row_heading level0 row24\" >35</th> \n",
       "        <td id=\"T_8342142e_e94a_11ea_95fd_20689d417144row24_col0\" class=\"data row24 col0\" >1407</td> \n",
       "    </tr>    <tr> \n",
       "        <th id=\"T_8342142e_e94a_11ea_95fd_20689d417144level0_row25\" class=\"row_heading level0 row25\" >24</th> \n",
       "        <td id=\"T_8342142e_e94a_11ea_95fd_20689d417144row25_col0\" class=\"data row25 col0\" >1805</td> \n",
       "    </tr>    <tr> \n",
       "        <th id=\"T_8342142e_e94a_11ea_95fd_20689d417144level0_row26\" class=\"row_heading level0 row26\" >37</th> \n",
       "        <td id=\"T_8342142e_e94a_11ea_95fd_20689d417144row26_col0\" class=\"data row26 col0\" >1970</td> \n",
       "    </tr>    <tr> \n",
       "        <th id=\"T_8342142e_e94a_11ea_95fd_20689d417144level0_row27\" class=\"row_heading level0 row27\" >38</th> \n",
       "        <td id=\"T_8342142e_e94a_11ea_95fd_20689d417144row27_col0\" class=\"data row27 col0\" >2032</td> \n",
       "    </tr>    <tr> \n",
       "        <th id=\"T_8342142e_e94a_11ea_95fd_20689d417144level0_row28\" class=\"row_heading level0 row28\" >36</th> \n",
       "        <td id=\"T_8342142e_e94a_11ea_95fd_20689d417144row28_col0\" class=\"data row28 col0\" >2132</td> \n",
       "    </tr>    <tr> \n",
       "        <th id=\"T_8342142e_e94a_11ea_95fd_20689d417144level0_row29\" class=\"row_heading level0 row29\" >3</th> \n",
       "        <td id=\"T_8342142e_e94a_11ea_95fd_20689d417144row29_col0\" class=\"data row29 col0\" >2587</td> \n",
       "    </tr>    <tr> \n",
       "        <th id=\"T_8342142e_e94a_11ea_95fd_20689d417144level0_row30\" class=\"row_heading level0 row30\" >25</th> \n",
       "        <td id=\"T_8342142e_e94a_11ea_95fd_20689d417144row30_col0\" class=\"data row30 col0\" >2598</td> \n",
       "    </tr>    <tr> \n",
       "        <th id=\"T_8342142e_e94a_11ea_95fd_20689d417144level0_row31\" class=\"row_heading level0 row31\" >5</th> \n",
       "        <td id=\"T_8342142e_e94a_11ea_95fd_20689d417144row31_col0\" class=\"data row31 col0\" >3194</td> \n",
       "    </tr>    <tr> \n",
       "        <th id=\"T_8342142e_e94a_11ea_95fd_20689d417144level0_row32\" class=\"row_heading level0 row32\" >7</th> \n",
       "        <td id=\"T_8342142e_e94a_11ea_95fd_20689d417144row32_col0\" class=\"data row32 col0\" >4031</td> \n",
       "    </tr>    <tr> \n",
       "        <th id=\"T_8342142e_e94a_11ea_95fd_20689d417144level0_row33\" class=\"row_heading level0 row33\" >40</th> \n",
       "        <td id=\"T_8342142e_e94a_11ea_95fd_20689d417144row33_col0\" class=\"data row33 col0\" >4284</td> \n",
       "    </tr>    <tr> \n",
       "        <th id=\"T_8342142e_e94a_11ea_95fd_20689d417144level0_row34\" class=\"row_heading level0 row34\" >999</th> \n",
       "        <td id=\"T_8342142e_e94a_11ea_95fd_20689d417144row34_col0\" class=\"data row34 col0\" >5865</td> \n",
       "    </tr>    <tr> \n",
       "        <th id=\"T_8342142e_e94a_11ea_95fd_20689d417144level0_row35\" class=\"row_heading level0 row35\" >9</th> \n",
       "        <td id=\"T_8342142e_e94a_11ea_95fd_20689d417144row35_col0\" class=\"data row35 col0\" >6627</td> \n",
       "    </tr>    <tr> \n",
       "        <th id=\"T_8342142e_e94a_11ea_95fd_20689d417144level0_row36\" class=\"row_heading level0 row36\" >39</th> \n",
       "        <td id=\"T_8342142e_e94a_11ea_95fd_20689d417144row36_col0\" class=\"data row36 col0\" >6977</td> \n",
       "    </tr>    <tr> \n",
       "        <th id=\"T_8342142e_e94a_11ea_95fd_20689d417144level0_row37\" class=\"row_heading level0 row37\" >8</th> \n",
       "        <td id=\"T_8342142e_e94a_11ea_95fd_20689d417144row37_col0\" class=\"data row37 col0\" >8519</td> \n",
       "    </tr></tbody> \n",
       "</table> "
      ]
     },
     "metadata": {},
     "output_type": "display_data"
    }
   ],
   "source": [
    "# 7) Averiguaremos si hay valores nulos (nan)\n",
    "# Cuantificamos por Tipo de Viaje (TripType)\n",
    "s_triptype = original_df.groupby(\"VisitNumber\").TripType.mean().value_counts()\n",
    "df_triptype = s_triptype.to_frame(name=\"TripType\")\n",
    "df_triptype = df_triptype.sort_values('TripType')\n",
    "df_triptype_styler = df_triptype.style.set_table_attributes(\"style='display:inline;padding-left:20px;'\").set_caption('Cantidad por TRIPTYPE')\n",
    "\n",
    "display_html(df_triptype_styler._repr_html_(), raw=True)"
   ]
  },
  {
   "cell_type": "code",
   "execution_count": 11,
   "metadata": {},
   "outputs": [
    {
     "data": {
      "text/plain": [
       "<matplotlib.axes._subplots.AxesSubplot at 0x22f3686e470>"
      ]
     },
     "execution_count": 11,
     "metadata": {},
     "output_type": "execute_result"
    },
    {
     "data": {
      "image/png": "[encoded data removed]",
      "text/plain": [
       "<Figure size 1008x504 with 1 Axes>"
      ]
     },
     "metadata": {
      "needs_background": "light"
     },
     "output_type": "display_data"
    }
   ],
   "source": [
    "# 8) Agrupamos por VisitNumber para realizar un conteo de los valores de la variable TripType \n",
    "plt.figure (figsize=(14,7))\n",
    "plt.title('Cantidad de Tickets por Tipo de Viaje')\n",
    "sns.despine(left=True)\n",
    "original_df.groupby(\"VisitNumber\").TripType.mean().value_counts().plot(kind='bar')"
   ]
  },
  {
   "cell_type": "markdown",
   "metadata": {},
   "source": [
    "* **Observación:** Los datos se encuentran desbalanceados con respecto a la cantidad de registros por TripType"
   ]
  },
  {
   "cell_type": "code",
   "execution_count": 12,
   "metadata": {},
   "outputs": [
    {
     "data": {
      "image/png": "[encoded data removed]",
      "text/plain": [
       "<Figure size 1008x504 with 1 Axes>"
      ]
     },
     "metadata": {
      "needs_background": "light"
     },
     "output_type": "display_data"
    }
   ],
   "source": [
    "plt.figure (figsize=(14,7))\n",
    "plt.title('Cantidad de Tipo de Viaje por Día de Semana')\n",
    "sns.countplot(data=original_df, x='Weekday', color='dodgerblue')\n",
    "plt.xticks(rotation=90)\n",
    "plt.ylabel('Cantidad')\n",
    "sns.despine(left=True)"
   ]
  },
  {
   "cell_type": "markdown",
   "metadata": {},
   "source": [
    "#### 1.2 Verificacion de Valores Nulos"
   ]
  },
  {
   "cell_type": "code",
   "execution_count": 15,
   "metadata": {},
   "outputs": [
    {
     "data": {
      "text/html": [
       "<style  type=\"text/css\" >\n",
       "</style>  \n",
       "<table id=\"T_8d2ba612_e94a_11ea_ba9a_20689d417144\" style='display:inline;padding-left:20px;'><caption>Nulos en el DF</caption> \n",
       "<thead>    <tr> \n",
       "        <th class=\"blank level0\" ></th> \n",
       "        <th class=\"col_heading level0 col0\" >Nulos</th> \n",
       "    </tr></thead> \n",
       "<tbody>    <tr> \n",
       "        <th id=\"T_8d2ba612_e94a_11ea_ba9a_20689d417144level0_row0\" class=\"row_heading level0 row0\" >TripType_NaN</th> \n",
       "        <td id=\"T_8d2ba612_e94a_11ea_ba9a_20689d417144row0_col0\" class=\"data row0 col0\" >0</td> \n",
       "    </tr>    <tr> \n",
       "        <th id=\"T_8d2ba612_e94a_11ea_ba9a_20689d417144level0_row1\" class=\"row_heading level0 row1\" >VisitNumber_NaN</th> \n",
       "        <td id=\"T_8d2ba612_e94a_11ea_ba9a_20689d417144row1_col0\" class=\"data row1 col0\" >0</td> \n",
       "    </tr>    <tr> \n",
       "        <th id=\"T_8d2ba612_e94a_11ea_ba9a_20689d417144level0_row2\" class=\"row_heading level0 row2\" >Weekday_NaN</th> \n",
       "        <td id=\"T_8d2ba612_e94a_11ea_ba9a_20689d417144row2_col0\" class=\"data row2 col0\" >0</td> \n",
       "    </tr>    <tr> \n",
       "        <th id=\"T_8d2ba612_e94a_11ea_ba9a_20689d417144level0_row3\" class=\"row_heading level0 row3\" >Upc_NaN</th> \n",
       "        <td id=\"T_8d2ba612_e94a_11ea_ba9a_20689d417144row3_col0\" class=\"data row3 col0\" >2852</td> \n",
       "    </tr>    <tr> \n",
       "        <th id=\"T_8d2ba612_e94a_11ea_ba9a_20689d417144level0_row4\" class=\"row_heading level0 row4\" >ScanCount_NaN</th> \n",
       "        <td id=\"T_8d2ba612_e94a_11ea_ba9a_20689d417144row4_col0\" class=\"data row4 col0\" >0</td> \n",
       "    </tr>    <tr> \n",
       "        <th id=\"T_8d2ba612_e94a_11ea_ba9a_20689d417144level0_row5\" class=\"row_heading level0 row5\" >DepartmentDescription_NaN</th> \n",
       "        <td id=\"T_8d2ba612_e94a_11ea_ba9a_20689d417144row5_col0\" class=\"data row5 col0\" >972</td> \n",
       "    </tr>    <tr> \n",
       "        <th id=\"T_8d2ba612_e94a_11ea_ba9a_20689d417144level0_row6\" class=\"row_heading level0 row6\" >FinelineNumber_NaN</th> \n",
       "        <td id=\"T_8d2ba612_e94a_11ea_ba9a_20689d417144row6_col0\" class=\"data row6 col0\" >2852</td> \n",
       "    </tr></tbody> \n",
       "</table> "
      ]
     },
     "metadata": {},
     "output_type": "display_data"
    }
   ],
   "source": [
    "# 1) Chequeamos si hay valores nulos y si es así cuantos hay\n",
    "v_nan =np.zeros((7,1))\n",
    "\n",
    "v_nan[0] = original_df.TripType.isnull().sum()\n",
    "v_nan[1] = original_df.VisitNumber.isnull().sum()\n",
    "v_nan[2] = original_df.Weekday.isnull().sum()\n",
    "v_nan[3] = original_df.Upc.isnull().sum()\n",
    "v_nan[4] = original_df.ScanCount.isnull().sum()\n",
    "v_nan[5] = original_df.DepartmentDescription.isnull().sum()\n",
    "v_nan[6] = original_df.FinelineNumber.isnull().sum()\n",
    "\n",
    "df_nan = pd.DataFrame(v_nan, index=['TripType_NaN','VisitNumber_NaN','Weekday_NaN','Upc_NaN','ScanCount_NaN','DepartmentDescription_NaN','FinelineNumber_NaN']).round()\n",
    "df_nan.columns = ['Nulos']\n",
    "\n",
    "df_nan_styler = df_nan.style.set_table_attributes(\"style='display:inline;padding-left:20px;'\").set_caption('Nulos en el DF')\n",
    "\n",
    "display_html(df_nan_styler._repr_html_(), raw=True)"
   ]
  },
  {
   "cell_type": "code",
   "execution_count": 20,
   "metadata": {},
   "outputs": [
    {
     "data": {
      "text/plain": [
       "(972, 972)"
      ]
     },
     "execution_count": 20,
     "metadata": {},
     "output_type": "execute_result"
    }
   ],
   "source": [
    "# 2) Chequeamos si los registros con valores nulos se corresponden \n",
    "(original_df.DepartmentDescription.isnull().sum(),\n",
    " (original_df.DepartmentDescription.isnull() & original_df.Upc.isnull() & original_df.FinelineNumber.isnull()).sum()) # si es nan el departamento los otros dos atributos lo son"
   ]
  },
  {
   "cell_type": "markdown",
   "metadata": {},
   "source": [
    "* **Observaciones:** \n",
    "* Tenemos tres variables con valores nulos (Upc, DepartmentDescription y FinelineNumber).\n",
    "* La cantidad de nulos para las variables Upc y FinelineNumber es el mismo.\n",
    "* Verificamos que cuando DepartmentDescription es NaN, las columnas Upc y FinelineNumber también lo son."
   ]
  },
  {
   "cell_type": "code",
   "execution_count": 22,
   "metadata": {},
   "outputs": [
    {
     "data": {
      "text/html": [
       "<div>\n",
       "<style>\n",
       "    .dataframe thead tr:only-child th {\n",
       "        text-align: right;\n",
       "    }\n",
       "\n",
       "    .dataframe thead th {\n",
       "        text-align: left;\n",
       "    }\n",
       "\n",
       "    .dataframe tbody tr th {\n",
       "        vertical-align: top;\n",
       "    }\n",
       "</style>\n",
       "<table border=\"1\" class=\"dataframe\">\n",
       "  <thead>\n",
       "    <tr style=\"text-align: right;\">\n",
       "      <th></th>\n",
       "      <th>TripType</th>\n",
       "      <th>VisitNumber</th>\n",
       "      <th>Weekday</th>\n",
       "      <th>Upc</th>\n",
       "      <th>ScanCount</th>\n",
       "      <th>DepartmentDescription</th>\n",
       "      <th>FinelineNumber</th>\n",
       "    </tr>\n",
       "  </thead>\n",
       "  <tbody>\n",
       "    <tr>\n",
       "      <th>739</th>\n",
       "      <td>999</td>\n",
       "      <td>484</td>\n",
       "      <td>Friday</td>\n",
       "      <td>NaN</td>\n",
       "      <td>-2</td>\n",
       "      <td>NaN</td>\n",
       "      <td>NaN</td>\n",
       "    </tr>\n",
       "    <tr>\n",
       "      <th>740</th>\n",
       "      <td>999</td>\n",
       "      <td>484</td>\n",
       "      <td>Friday</td>\n",
       "      <td>NaN</td>\n",
       "      <td>-2</td>\n",
       "      <td>NaN</td>\n",
       "      <td>NaN</td>\n",
       "    </tr>\n",
       "    <tr>\n",
       "      <th>900</th>\n",
       "      <td>5</td>\n",
       "      <td>585</td>\n",
       "      <td>Friday</td>\n",
       "      <td>NaN</td>\n",
       "      <td>1</td>\n",
       "      <td>PHARMACY RX</td>\n",
       "      <td>NaN</td>\n",
       "    </tr>\n",
       "    <tr>\n",
       "      <th>944</th>\n",
       "      <td>5</td>\n",
       "      <td>619</td>\n",
       "      <td>Friday</td>\n",
       "      <td>NaN</td>\n",
       "      <td>1</td>\n",
       "      <td>PHARMACY RX</td>\n",
       "      <td>NaN</td>\n",
       "    </tr>\n",
       "    <tr>\n",
       "      <th>945</th>\n",
       "      <td>5</td>\n",
       "      <td>619</td>\n",
       "      <td>Friday</td>\n",
       "      <td>NaN</td>\n",
       "      <td>1</td>\n",
       "      <td>PHARMACY RX</td>\n",
       "      <td>NaN</td>\n",
       "    </tr>\n",
       "    <tr>\n",
       "      <th>946</th>\n",
       "      <td>5</td>\n",
       "      <td>619</td>\n",
       "      <td>Friday</td>\n",
       "      <td>NaN</td>\n",
       "      <td>1</td>\n",
       "      <td>PHARMACY RX</td>\n",
       "      <td>NaN</td>\n",
       "    </tr>\n",
       "    <tr>\n",
       "      <th>1292</th>\n",
       "      <td>32</td>\n",
       "      <td>845</td>\n",
       "      <td>Friday</td>\n",
       "      <td>NaN</td>\n",
       "      <td>1</td>\n",
       "      <td>NaN</td>\n",
       "      <td>NaN</td>\n",
       "    </tr>\n",
       "    <tr>\n",
       "      <th>1293</th>\n",
       "      <td>32</td>\n",
       "      <td>845</td>\n",
       "      <td>Friday</td>\n",
       "      <td>NaN</td>\n",
       "      <td>1</td>\n",
       "      <td>NaN</td>\n",
       "      <td>NaN</td>\n",
       "    </tr>\n",
       "    <tr>\n",
       "      <th>1577</th>\n",
       "      <td>40</td>\n",
       "      <td>1004</td>\n",
       "      <td>Friday</td>\n",
       "      <td>NaN</td>\n",
       "      <td>1</td>\n",
       "      <td>NaN</td>\n",
       "      <td>NaN</td>\n",
       "    </tr>\n",
       "    <tr>\n",
       "      <th>1770</th>\n",
       "      <td>5</td>\n",
       "      <td>1073</td>\n",
       "      <td>Friday</td>\n",
       "      <td>NaN</td>\n",
       "      <td>1</td>\n",
       "      <td>PHARMACY RX</td>\n",
       "      <td>NaN</td>\n",
       "    </tr>\n",
       "    <tr>\n",
       "      <th>1944</th>\n",
       "      <td>5</td>\n",
       "      <td>1170</td>\n",
       "      <td>Friday</td>\n",
       "      <td>NaN</td>\n",
       "      <td>1</td>\n",
       "      <td>PHARMACY RX</td>\n",
       "      <td>NaN</td>\n",
       "    </tr>\n",
       "    <tr>\n",
       "      <th>2127</th>\n",
       "      <td>44</td>\n",
       "      <td>1236</td>\n",
       "      <td>Friday</td>\n",
       "      <td>NaN</td>\n",
       "      <td>1</td>\n",
       "      <td>NaN</td>\n",
       "      <td>NaN</td>\n",
       "    </tr>\n",
       "    <tr>\n",
       "      <th>2343</th>\n",
       "      <td>9</td>\n",
       "      <td>1355</td>\n",
       "      <td>Friday</td>\n",
       "      <td>NaN</td>\n",
       "      <td>1</td>\n",
       "      <td>PHARMACY RX</td>\n",
       "      <td>NaN</td>\n",
       "    </tr>\n",
       "    <tr>\n",
       "      <th>2484</th>\n",
       "      <td>5</td>\n",
       "      <td>1402</td>\n",
       "      <td>Friday</td>\n",
       "      <td>NaN</td>\n",
       "      <td>1</td>\n",
       "      <td>PHARMACY RX</td>\n",
       "      <td>NaN</td>\n",
       "    </tr>\n",
       "    <tr>\n",
       "      <th>2562</th>\n",
       "      <td>5</td>\n",
       "      <td>1487</td>\n",
       "      <td>Friday</td>\n",
       "      <td>NaN</td>\n",
       "      <td>1</td>\n",
       "      <td>PHARMACY RX</td>\n",
       "      <td>NaN</td>\n",
       "    </tr>\n",
       "    <tr>\n",
       "      <th>2563</th>\n",
       "      <td>5</td>\n",
       "      <td>1487</td>\n",
       "      <td>Friday</td>\n",
       "      <td>NaN</td>\n",
       "      <td>1</td>\n",
       "      <td>PHARMACY RX</td>\n",
       "      <td>NaN</td>\n",
       "    </tr>\n",
       "    <tr>\n",
       "      <th>2773</th>\n",
       "      <td>5</td>\n",
       "      <td>1597</td>\n",
       "      <td>Friday</td>\n",
       "      <td>NaN</td>\n",
       "      <td>1</td>\n",
       "      <td>PHARMACY RX</td>\n",
       "      <td>NaN</td>\n",
       "    </tr>\n",
       "    <tr>\n",
       "      <th>2891</th>\n",
       "      <td>5</td>\n",
       "      <td>1652</td>\n",
       "      <td>Friday</td>\n",
       "      <td>NaN</td>\n",
       "      <td>1</td>\n",
       "      <td>PHARMACY RX</td>\n",
       "      <td>NaN</td>\n",
       "    </tr>\n",
       "    <tr>\n",
       "      <th>2892</th>\n",
       "      <td>5</td>\n",
       "      <td>1652</td>\n",
       "      <td>Friday</td>\n",
       "      <td>NaN</td>\n",
       "      <td>1</td>\n",
       "      <td>PHARMACY RX</td>\n",
       "      <td>NaN</td>\n",
       "    </tr>\n",
       "    <tr>\n",
       "      <th>2893</th>\n",
       "      <td>5</td>\n",
       "      <td>1652</td>\n",
       "      <td>Friday</td>\n",
       "      <td>NaN</td>\n",
       "      <td>1</td>\n",
       "      <td>PHARMACY RX</td>\n",
       "      <td>NaN</td>\n",
       "    </tr>\n",
       "    <tr>\n",
       "      <th>3005</th>\n",
       "      <td>15</td>\n",
       "      <td>1664</td>\n",
       "      <td>Friday</td>\n",
       "      <td>NaN</td>\n",
       "      <td>-1</td>\n",
       "      <td>NaN</td>\n",
       "      <td>NaN</td>\n",
       "    </tr>\n",
       "    <tr>\n",
       "      <th>3006</th>\n",
       "      <td>15</td>\n",
       "      <td>1664</td>\n",
       "      <td>Friday</td>\n",
       "      <td>NaN</td>\n",
       "      <td>1</td>\n",
       "      <td>NaN</td>\n",
       "      <td>NaN</td>\n",
       "    </tr>\n",
       "    <tr>\n",
       "      <th>3032</th>\n",
       "      <td>5</td>\n",
       "      <td>1676</td>\n",
       "      <td>Friday</td>\n",
       "      <td>NaN</td>\n",
       "      <td>1</td>\n",
       "      <td>PHARMACY RX</td>\n",
       "      <td>NaN</td>\n",
       "    </tr>\n",
       "    <tr>\n",
       "      <th>3135</th>\n",
       "      <td>5</td>\n",
       "      <td>1729</td>\n",
       "      <td>Friday</td>\n",
       "      <td>NaN</td>\n",
       "      <td>1</td>\n",
       "      <td>PHARMACY RX</td>\n",
       "      <td>NaN</td>\n",
       "    </tr>\n",
       "    <tr>\n",
       "      <th>3136</th>\n",
       "      <td>5</td>\n",
       "      <td>1729</td>\n",
       "      <td>Friday</td>\n",
       "      <td>NaN</td>\n",
       "      <td>1</td>\n",
       "      <td>PHARMACY RX</td>\n",
       "      <td>NaN</td>\n",
       "    </tr>\n",
       "    <tr>\n",
       "      <th>3137</th>\n",
       "      <td>5</td>\n",
       "      <td>1729</td>\n",
       "      <td>Friday</td>\n",
       "      <td>NaN</td>\n",
       "      <td>1</td>\n",
       "      <td>PHARMACY RX</td>\n",
       "      <td>NaN</td>\n",
       "    </tr>\n",
       "    <tr>\n",
       "      <th>3407</th>\n",
       "      <td>5</td>\n",
       "      <td>1851</td>\n",
       "      <td>Friday</td>\n",
       "      <td>NaN</td>\n",
       "      <td>1</td>\n",
       "      <td>PHARMACY RX</td>\n",
       "      <td>NaN</td>\n",
       "    </tr>\n",
       "    <tr>\n",
       "      <th>3408</th>\n",
       "      <td>5</td>\n",
       "      <td>1851</td>\n",
       "      <td>Friday</td>\n",
       "      <td>NaN</td>\n",
       "      <td>1</td>\n",
       "      <td>PHARMACY RX</td>\n",
       "      <td>NaN</td>\n",
       "    </tr>\n",
       "    <tr>\n",
       "      <th>3409</th>\n",
       "      <td>5</td>\n",
       "      <td>1851</td>\n",
       "      <td>Friday</td>\n",
       "      <td>NaN</td>\n",
       "      <td>1</td>\n",
       "      <td>PHARMACY RX</td>\n",
       "      <td>NaN</td>\n",
       "    </tr>\n",
       "    <tr>\n",
       "      <th>3410</th>\n",
       "      <td>5</td>\n",
       "      <td>1851</td>\n",
       "      <td>Friday</td>\n",
       "      <td>NaN</td>\n",
       "      <td>1</td>\n",
       "      <td>PHARMACY RX</td>\n",
       "      <td>NaN</td>\n",
       "    </tr>\n",
       "    <tr>\n",
       "      <th>...</th>\n",
       "      <td>...</td>\n",
       "      <td>...</td>\n",
       "      <td>...</td>\n",
       "      <td>...</td>\n",
       "      <td>...</td>\n",
       "      <td>...</td>\n",
       "      <td>...</td>\n",
       "    </tr>\n",
       "    <tr>\n",
       "      <th>443253</th>\n",
       "      <td>5</td>\n",
       "      <td>187802</td>\n",
       "      <td>Sunday</td>\n",
       "      <td>NaN</td>\n",
       "      <td>1</td>\n",
       "      <td>PHARMACY RX</td>\n",
       "      <td>NaN</td>\n",
       "    </tr>\n",
       "    <tr>\n",
       "      <th>443288</th>\n",
       "      <td>5</td>\n",
       "      <td>187814</td>\n",
       "      <td>Sunday</td>\n",
       "      <td>NaN</td>\n",
       "      <td>1</td>\n",
       "      <td>PHARMACY RX</td>\n",
       "      <td>NaN</td>\n",
       "    </tr>\n",
       "    <tr>\n",
       "      <th>444216</th>\n",
       "      <td>5</td>\n",
       "      <td>188156</td>\n",
       "      <td>Sunday</td>\n",
       "      <td>NaN</td>\n",
       "      <td>1</td>\n",
       "      <td>PHARMACY RX</td>\n",
       "      <td>NaN</td>\n",
       "    </tr>\n",
       "    <tr>\n",
       "      <th>444530</th>\n",
       "      <td>32</td>\n",
       "      <td>188267</td>\n",
       "      <td>Sunday</td>\n",
       "      <td>NaN</td>\n",
       "      <td>1</td>\n",
       "      <td>NaN</td>\n",
       "      <td>NaN</td>\n",
       "    </tr>\n",
       "    <tr>\n",
       "      <th>444953</th>\n",
       "      <td>44</td>\n",
       "      <td>188391</td>\n",
       "      <td>Sunday</td>\n",
       "      <td>NaN</td>\n",
       "      <td>1</td>\n",
       "      <td>NaN</td>\n",
       "      <td>NaN</td>\n",
       "    </tr>\n",
       "    <tr>\n",
       "      <th>445005</th>\n",
       "      <td>38</td>\n",
       "      <td>188403</td>\n",
       "      <td>Sunday</td>\n",
       "      <td>NaN</td>\n",
       "      <td>1</td>\n",
       "      <td>PHARMACY RX</td>\n",
       "      <td>NaN</td>\n",
       "    </tr>\n",
       "    <tr>\n",
       "      <th>445256</th>\n",
       "      <td>5</td>\n",
       "      <td>188502</td>\n",
       "      <td>Sunday</td>\n",
       "      <td>NaN</td>\n",
       "      <td>1</td>\n",
       "      <td>PHARMACY RX</td>\n",
       "      <td>NaN</td>\n",
       "    </tr>\n",
       "    <tr>\n",
       "      <th>445257</th>\n",
       "      <td>5</td>\n",
       "      <td>188502</td>\n",
       "      <td>Sunday</td>\n",
       "      <td>NaN</td>\n",
       "      <td>1</td>\n",
       "      <td>PHARMACY RX</td>\n",
       "      <td>NaN</td>\n",
       "    </tr>\n",
       "    <tr>\n",
       "      <th>445572</th>\n",
       "      <td>40</td>\n",
       "      <td>188580</td>\n",
       "      <td>Sunday</td>\n",
       "      <td>NaN</td>\n",
       "      <td>1</td>\n",
       "      <td>NaN</td>\n",
       "      <td>NaN</td>\n",
       "    </tr>\n",
       "    <tr>\n",
       "      <th>445669</th>\n",
       "      <td>39</td>\n",
       "      <td>188619</td>\n",
       "      <td>Sunday</td>\n",
       "      <td>NaN</td>\n",
       "      <td>1</td>\n",
       "      <td>NaN</td>\n",
       "      <td>NaN</td>\n",
       "    </tr>\n",
       "    <tr>\n",
       "      <th>445848</th>\n",
       "      <td>44</td>\n",
       "      <td>188673</td>\n",
       "      <td>Sunday</td>\n",
       "      <td>NaN</td>\n",
       "      <td>1</td>\n",
       "      <td>NaN</td>\n",
       "      <td>NaN</td>\n",
       "    </tr>\n",
       "    <tr>\n",
       "      <th>446027</th>\n",
       "      <td>8</td>\n",
       "      <td>188743</td>\n",
       "      <td>Sunday</td>\n",
       "      <td>NaN</td>\n",
       "      <td>1</td>\n",
       "      <td>NaN</td>\n",
       "      <td>NaN</td>\n",
       "    </tr>\n",
       "    <tr>\n",
       "      <th>446120</th>\n",
       "      <td>40</td>\n",
       "      <td>188775</td>\n",
       "      <td>Sunday</td>\n",
       "      <td>NaN</td>\n",
       "      <td>1</td>\n",
       "      <td>NaN</td>\n",
       "      <td>NaN</td>\n",
       "    </tr>\n",
       "    <tr>\n",
       "      <th>446372</th>\n",
       "      <td>5</td>\n",
       "      <td>188896</td>\n",
       "      <td>Sunday</td>\n",
       "      <td>NaN</td>\n",
       "      <td>1</td>\n",
       "      <td>PHARMACY RX</td>\n",
       "      <td>NaN</td>\n",
       "    </tr>\n",
       "    <tr>\n",
       "      <th>446407</th>\n",
       "      <td>25</td>\n",
       "      <td>188898</td>\n",
       "      <td>Sunday</td>\n",
       "      <td>NaN</td>\n",
       "      <td>4</td>\n",
       "      <td>NaN</td>\n",
       "      <td>NaN</td>\n",
       "    </tr>\n",
       "    <tr>\n",
       "      <th>446408</th>\n",
       "      <td>25</td>\n",
       "      <td>188898</td>\n",
       "      <td>Sunday</td>\n",
       "      <td>NaN</td>\n",
       "      <td>2</td>\n",
       "      <td>NaN</td>\n",
       "      <td>NaN</td>\n",
       "    </tr>\n",
       "    <tr>\n",
       "      <th>446409</th>\n",
       "      <td>25</td>\n",
       "      <td>188898</td>\n",
       "      <td>Sunday</td>\n",
       "      <td>NaN</td>\n",
       "      <td>-2</td>\n",
       "      <td>NaN</td>\n",
       "      <td>NaN</td>\n",
       "    </tr>\n",
       "    <tr>\n",
       "      <th>446410</th>\n",
       "      <td>25</td>\n",
       "      <td>188898</td>\n",
       "      <td>Sunday</td>\n",
       "      <td>NaN</td>\n",
       "      <td>1</td>\n",
       "      <td>NaN</td>\n",
       "      <td>NaN</td>\n",
       "    </tr>\n",
       "    <tr>\n",
       "      <th>446411</th>\n",
       "      <td>25</td>\n",
       "      <td>188898</td>\n",
       "      <td>Sunday</td>\n",
       "      <td>NaN</td>\n",
       "      <td>1</td>\n",
       "      <td>NaN</td>\n",
       "      <td>NaN</td>\n",
       "    </tr>\n",
       "    <tr>\n",
       "      <th>446443</th>\n",
       "      <td>40</td>\n",
       "      <td>188901</td>\n",
       "      <td>Sunday</td>\n",
       "      <td>NaN</td>\n",
       "      <td>1</td>\n",
       "      <td>NaN</td>\n",
       "      <td>NaN</td>\n",
       "    </tr>\n",
       "    <tr>\n",
       "      <th>446592</th>\n",
       "      <td>40</td>\n",
       "      <td>188907</td>\n",
       "      <td>Sunday</td>\n",
       "      <td>NaN</td>\n",
       "      <td>2</td>\n",
       "      <td>NaN</td>\n",
       "      <td>NaN</td>\n",
       "    </tr>\n",
       "    <tr>\n",
       "      <th>446593</th>\n",
       "      <td>40</td>\n",
       "      <td>188907</td>\n",
       "      <td>Sunday</td>\n",
       "      <td>NaN</td>\n",
       "      <td>3</td>\n",
       "      <td>NaN</td>\n",
       "      <td>NaN</td>\n",
       "    </tr>\n",
       "    <tr>\n",
       "      <th>446594</th>\n",
       "      <td>40</td>\n",
       "      <td>188907</td>\n",
       "      <td>Sunday</td>\n",
       "      <td>NaN</td>\n",
       "      <td>2</td>\n",
       "      <td>NaN</td>\n",
       "      <td>NaN</td>\n",
       "    </tr>\n",
       "    <tr>\n",
       "      <th>446717</th>\n",
       "      <td>5</td>\n",
       "      <td>188940</td>\n",
       "      <td>Sunday</td>\n",
       "      <td>NaN</td>\n",
       "      <td>1</td>\n",
       "      <td>PHARMACY RX</td>\n",
       "      <td>NaN</td>\n",
       "    </tr>\n",
       "    <tr>\n",
       "      <th>448910</th>\n",
       "      <td>33</td>\n",
       "      <td>189818</td>\n",
       "      <td>Sunday</td>\n",
       "      <td>NaN</td>\n",
       "      <td>1</td>\n",
       "      <td>NaN</td>\n",
       "      <td>NaN</td>\n",
       "    </tr>\n",
       "    <tr>\n",
       "      <th>449840</th>\n",
       "      <td>40</td>\n",
       "      <td>190133</td>\n",
       "      <td>Sunday</td>\n",
       "      <td>NaN</td>\n",
       "      <td>1</td>\n",
       "      <td>NaN</td>\n",
       "      <td>NaN</td>\n",
       "    </tr>\n",
       "    <tr>\n",
       "      <th>450036</th>\n",
       "      <td>999</td>\n",
       "      <td>190182</td>\n",
       "      <td>Sunday</td>\n",
       "      <td>NaN</td>\n",
       "      <td>-1</td>\n",
       "      <td>NaN</td>\n",
       "      <td>NaN</td>\n",
       "    </tr>\n",
       "    <tr>\n",
       "      <th>450163</th>\n",
       "      <td>40</td>\n",
       "      <td>190230</td>\n",
       "      <td>Sunday</td>\n",
       "      <td>NaN</td>\n",
       "      <td>1</td>\n",
       "      <td>NaN</td>\n",
       "      <td>NaN</td>\n",
       "    </tr>\n",
       "    <tr>\n",
       "      <th>450361</th>\n",
       "      <td>39</td>\n",
       "      <td>190309</td>\n",
       "      <td>Sunday</td>\n",
       "      <td>NaN</td>\n",
       "      <td>1</td>\n",
       "      <td>NaN</td>\n",
       "      <td>NaN</td>\n",
       "    </tr>\n",
       "    <tr>\n",
       "      <th>450595</th>\n",
       "      <td>41</td>\n",
       "      <td>190408</td>\n",
       "      <td>Sunday</td>\n",
       "      <td>NaN</td>\n",
       "      <td>1</td>\n",
       "      <td>NaN</td>\n",
       "      <td>NaN</td>\n",
       "    </tr>\n",
       "  </tbody>\n",
       "</table>\n",
       "<p>2852 rows × 7 columns</p>\n",
       "</div>"
      ],
      "text/plain": [
       "        TripType  VisitNumber Weekday  Upc  ScanCount DepartmentDescription  \\\n",
       "739          999          484  Friday  NaN         -2                   NaN   \n",
       "740          999          484  Friday  NaN         -2                   NaN   \n",
       "900            5          585  Friday  NaN          1           PHARMACY RX   \n",
       "944            5          619  Friday  NaN          1           PHARMACY RX   \n",
       "945            5          619  Friday  NaN          1           PHARMACY RX   \n",
       "946            5          619  Friday  NaN          1           PHARMACY RX   \n",
       "1292          32          845  Friday  NaN          1                   NaN   \n",
       "1293          32          845  Friday  NaN          1                   NaN   \n",
       "1577          40         1004  Friday  NaN          1                   NaN   \n",
       "1770           5         1073  Friday  NaN          1           PHARMACY RX   \n",
       "1944           5         1170  Friday  NaN          1           PHARMACY RX   \n",
       "2127          44         1236  Friday  NaN          1                   NaN   \n",
       "2343           9         1355  Friday  NaN          1           PHARMACY RX   \n",
       "2484           5         1402  Friday  NaN          1           PHARMACY RX   \n",
       "2562           5         1487  Friday  NaN          1           PHARMACY RX   \n",
       "2563           5         1487  Friday  NaN          1           PHARMACY RX   \n",
       "2773           5         1597  Friday  NaN          1           PHARMACY RX   \n",
       "2891           5         1652  Friday  NaN          1           PHARMACY RX   \n",
       "2892           5         1652  Friday  NaN          1           PHARMACY RX   \n",
       "2893           5         1652  Friday  NaN          1           PHARMACY RX   \n",
       "3005          15         1664  Friday  NaN         -1                   NaN   \n",
       "3006          15         1664  Friday  NaN          1                   NaN   \n",
       "3032           5         1676  Friday  NaN          1           PHARMACY RX   \n",
       "3135           5         1729  Friday  NaN          1           PHARMACY RX   \n",
       "3136           5         1729  Friday  NaN          1           PHARMACY RX   \n",
       "3137           5         1729  Friday  NaN          1           PHARMACY RX   \n",
       "3407           5         1851  Friday  NaN          1           PHARMACY RX   \n",
       "3408           5         1851  Friday  NaN          1           PHARMACY RX   \n",
       "3409           5         1851  Friday  NaN          1           PHARMACY RX   \n",
       "3410           5         1851  Friday  NaN          1           PHARMACY RX   \n",
       "...          ...          ...     ...  ...        ...                   ...   \n",
       "443253         5       187802  Sunday  NaN          1           PHARMACY RX   \n",
       "443288         5       187814  Sunday  NaN          1           PHARMACY RX   \n",
       "444216         5       188156  Sunday  NaN          1           PHARMACY RX   \n",
       "444530        32       188267  Sunday  NaN          1                   NaN   \n",
       "444953        44       188391  Sunday  NaN          1                   NaN   \n",
       "445005        38       188403  Sunday  NaN          1           PHARMACY RX   \n",
       "445256         5       188502  Sunday  NaN          1           PHARMACY RX   \n",
       "445257         5       188502  Sunday  NaN          1           PHARMACY RX   \n",
       "445572        40       188580  Sunday  NaN          1                   NaN   \n",
       "445669        39       188619  Sunday  NaN          1                   NaN   \n",
       "445848        44       188673  Sunday  NaN          1                   NaN   \n",
       "446027         8       188743  Sunday  NaN          1                   NaN   \n",
       "446120        40       188775  Sunday  NaN          1                   NaN   \n",
       "446372         5       188896  Sunday  NaN          1           PHARMACY RX   \n",
       "446407        25       188898  Sunday  NaN          4                   NaN   \n",
       "446408        25       188898  Sunday  NaN          2                   NaN   \n",
       "446409        25       188898  Sunday  NaN         -2                   NaN   \n",
       "446410        25       188898  Sunday  NaN          1                   NaN   \n",
       "446411        25       188898  Sunday  NaN          1                   NaN   \n",
       "446443        40       188901  Sunday  NaN          1                   NaN   \n",
       "446592        40       188907  Sunday  NaN          2                   NaN   \n",
       "446593        40       188907  Sunday  NaN          3                   NaN   \n",
       "446594        40       188907  Sunday  NaN          2                   NaN   \n",
       "446717         5       188940  Sunday  NaN          1           PHARMACY RX   \n",
       "448910        33       189818  Sunday  NaN          1                   NaN   \n",
       "449840        40       190133  Sunday  NaN          1                   NaN   \n",
       "450036       999       190182  Sunday  NaN         -1                   NaN   \n",
       "450163        40       190230  Sunday  NaN          1                   NaN   \n",
       "450361        39       190309  Sunday  NaN          1                   NaN   \n",
       "450595        41       190408  Sunday  NaN          1                   NaN   \n",
       "\n",
       "        FinelineNumber  \n",
       "739                NaN  \n",
       "740                NaN  \n",
       "900                NaN  \n",
       "944                NaN  \n",
       "945                NaN  \n",
       "946                NaN  \n",
       "1292               NaN  \n",
       "1293               NaN  \n",
       "1577               NaN  \n",
       "1770               NaN  \n",
       "1944               NaN  \n",
       "2127               NaN  \n",
       "2343               NaN  \n",
       "2484               NaN  \n",
       "2562               NaN  \n",
       "2563               NaN  \n",
       "2773               NaN  \n",
       "2891               NaN  \n",
       "2892               NaN  \n",
       "2893               NaN  \n",
       "3005               NaN  \n",
       "3006               NaN  \n",
       "3032               NaN  \n",
       "3135               NaN  \n",
       "3136               NaN  \n",
       "3137               NaN  \n",
       "3407               NaN  \n",
       "3408               NaN  \n",
       "3409               NaN  \n",
       "3410               NaN  \n",
       "...                ...  \n",
       "443253             NaN  \n",
       "443288             NaN  \n",
       "444216             NaN  \n",
       "444530             NaN  \n",
       "444953             NaN  \n",
       "445005             NaN  \n",
       "445256             NaN  \n",
       "445257             NaN  \n",
       "445572             NaN  \n",
       "445669             NaN  \n",
       "445848             NaN  \n",
       "446027             NaN  \n",
       "446120             NaN  \n",
       "446372             NaN  \n",
       "446407             NaN  \n",
       "446408             NaN  \n",
       "446409             NaN  \n",
       "446410             NaN  \n",
       "446411             NaN  \n",
       "446443             NaN  \n",
       "446592             NaN  \n",
       "446593             NaN  \n",
       "446594             NaN  \n",
       "446717             NaN  \n",
       "448910             NaN  \n",
       "449840             NaN  \n",
       "450036             NaN  \n",
       "450163             NaN  \n",
       "450361             NaN  \n",
       "450595             NaN  \n",
       "\n",
       "[2852 rows x 7 columns]"
      ]
     },
     "execution_count": 22,
     "metadata": {},
     "output_type": "execute_result"
    }
   ],
   "source": [
    "original_df[original_df.Upc.isnull()]"
   ]
  },
  {
   "cell_type": "code",
   "execution_count": 24,
   "metadata": {},
   "outputs": [
    {
     "data": {
      "text/plain": [
       "(2852, 2852, 2852)"
      ]
     },
     "execution_count": 24,
     "metadata": {},
     "output_type": "execute_result"
    }
   ],
   "source": [
    "(original_df.Upc.isnull().sum(),\n",
    " original_df.FinelineNumber.isnull().sum(),\n",
    " (original_df.FinelineNumber.isnull() & original_df.Upc.isnull()).sum())"
   ]
  },
  {
   "cell_type": "code",
   "execution_count": 26,
   "metadata": {},
   "outputs": [
    {
     "name": "stdout",
     "output_type": "stream",
     "text": [
      "1880\n",
      "1880\n"
     ]
    }
   ],
   "source": [
    "df_notna = original_df[pd.notnull(original_df['DepartmentDescription'])]\n",
    "print(df_notna.FinelineNumber.isnull().sum())\n",
    "print(df_notna.Upc.isnull().sum())"
   ]
  },
  {
   "cell_type": "markdown",
   "metadata": {},
   "source": [
    "**Observaciones:** \n",
    "* Puede darse el caso que cuando la variable Upc es nula, la variable DepartmentDescription no lo sea.\n",
    "* Notamos que los registros con valores nulos de las variables Upc y FinelineNumber se corresponden.\n",
    "* La cantidad de registros con valores no nulos de ambas variables, también se corresponde."
   ]
  },
  {
   "cell_type": "markdown",
   "metadata": {},
   "source": [
    "#### 1.3 Verificacion y eliminacion de Outliers"
   ]
  },
  {
   "cell_type": "code",
   "execution_count": null,
   "metadata": {},
   "outputs": [],
   "source": [
    "df_outl = df_notna.loc[:, ['TripType', 'VisitNumber', 'Upc', 'ScanCount']]\n",
    "\n",
    "for feature in df_outl.columns:\n",
    "    \n",
    "    if feature != 'TripType':\n",
    "        plt.figure (figsize=(17,6))\n",
    "        sns.boxplot(data=df_outl, color='dodgerblue', x='TripType', y=feature)\n",
    "        #plt.title('Boxplot para ', feature)\n",
    "        plt.ylabel(feature)\n",
    "        plt.xlabel('TripType')\n",
    "        sns.despine()\n",
    "        plt.show()"
   ]
  },
  {
   "cell_type": "markdown",
   "metadata": {},
   "source": [
    "Podemos notar que para la variable ScanCount existen ciertos outliers de algunos Tipos de Viaje al Supermercado (TripType)"
   ]
  },
  {
   "cell_type": "code",
   "execution_count": null,
   "metadata": {},
   "outputs": [],
   "source": [
    "# Filtrado de outliers \n",
    "def clean_outliers(dataset, column_name):\n",
    "    \"\"\"Returns dataset removing the outlier rows from column @column_name.\"\"\"\n",
    "    interesting_col = dataset[column_name]\n",
    "    mask_var_outlier = (\n",
    "        np.abs(interesting_col - interesting_col.mean()) <= (15 * interesting_col.std()))\n",
    "    return dataset[mask_var_outlier]"
   ]
  },
  {
   "cell_type": "code",
   "execution_count": null,
   "metadata": {},
   "outputs": [],
   "source": [
    "df_clean = clean_outliers(df_notna, \"ScanCount\")\n",
    "print(\"Filas removidas\", len(df_notna) - len(df_clean))"
   ]
  },
  {
   "cell_type": "code",
   "execution_count": null,
   "metadata": {},
   "outputs": [],
   "source": [
    "plt.figure (figsize=(17,6))\n",
    "sns.boxplot(data=df_clean, color='dodgerblue', x='TripType', y=feature)\n",
    "plt.ylabel('ScanCount')\n",
    "plt.xlabel('TripType')\n",
    "sns.despine()\n",
    "plt.show()"
   ]
  },
  {
   "cell_type": "code",
   "execution_count": null,
   "metadata": {},
   "outputs": [],
   "source": [
    "df_group = original_df.groupby(by='VisitNumber', as_index=False).agg({'Weekday': pd.Series.nunique})\n",
    "\n",
    "print(df_group['Weekday'].unique())"
   ]
  },
  {
   "cell_type": "markdown",
   "metadata": {},
   "source": [
    "Al agrupar por VisitNumber y verificar los valores de Weekday notamos que todos los tickets son únicos para la feature Weekday"
   ]
  },
  {
   "cell_type": "code",
   "execution_count": null,
   "metadata": {},
   "outputs": [],
   "source": [
    "df_ddNaN = original_df[original_df.DepartmentDescription.isna()]\n",
    "\n",
    "#print(df_ddNaN['TripType'].unique())\n",
    "\n",
    "# to count the TripType values, we have to group the visits by VisitNumber\n",
    "plt.figure (figsize=(12,6))\n",
    "plt.title('Distribucion TripType para DepartmentDescription Nulos')\n",
    "sns.despine(left=True)\n",
    "sns.countplot(data=df_ddNaN, x='TripType', color='dodgerblue')"
   ]
  },
  {
   "cell_type": "markdown",
   "metadata": {},
   "source": [
    "Para el caso de DepartmentDescription vemos que existe una distribucion no uniforme en la clasificacion de TripType "
   ]
  },
  {
   "cell_type": "code",
   "execution_count": null,
   "metadata": {},
   "outputs": [],
   "source": [
    "df_group = original_df.groupby(by='VisitNumber', as_index=False).agg({'TripType': pd.Series.nunique})\n",
    "\n",
    "print(df_group['TripType'].unique())    "
   ]
  },
  {
   "cell_type": "markdown",
   "metadata": {},
   "source": [
    "Al agrupar por VisitNumber y verificar los valores de TripType notamos tambien que todos los tickets son únicos para esta feature"
   ]
  },
  {
   "cell_type": "code",
   "execution_count": null,
   "metadata": {},
   "outputs": [],
   "source": [
    "warnings.filterwarnings('ignore')\n",
    "\n",
    "original_df.Upc.mode()[0]\n",
    "\n",
    "df_notna.fillna({'Upc': original_df.Upc.mode()[0]}, inplace=True)\n",
    "\n",
    "df_notna.Upc.isna().sum()"
   ]
  },
  {
   "cell_type": "markdown",
   "metadata": {},
   "source": [
    "Reemplazamos los NaN de la feature UPC por la moda ya que se trata de una variable numerica discreta"
   ]
  },
  {
   "cell_type": "markdown",
   "metadata": {},
   "source": [
    "Lo mismo notamos al agrupar por VisitNumber notamos que el valor TripType es único por ticket "
   ]
  },
  {
   "cell_type": "code",
   "execution_count": null,
   "metadata": {},
   "outputs": [],
   "source": [
    "y = original_df.groupby([\"VisitNumber\", \"Weekday\"], as_index=False).max().TripType\n",
    "y.shape"
   ]
  },
  {
   "cell_type": "markdown",
   "metadata": {},
   "source": [
    "Our last step in this analysis is to see how balanced is the data..."
   ]
  },
  {
   "cell_type": "code",
   "execution_count": null,
   "metadata": {},
   "outputs": [],
   "source": [
    "bins = set(original_df.TripType) ###### esto para que es"
   ]
  },
  {
   "cell_type": "markdown",
   "metadata": {},
   "source": [
    "Create a function to load the datasets."
   ]
  },
  {
   "cell_type": "markdown",
   "metadata": {},
   "source": [
    "#### 1.4  Some important decisions made here:"
   ]
  },
  {
   "cell_type": "markdown",
   "metadata": {},
   "source": [
    "#### 1.4.1. We will use one hot encoding for Weekday and DepartmentDescription. All transformations are applied to the training and testing datasets... "
   ]
  },
  {
   "cell_type": "markdown",
   "metadata": {},
   "source": [
    "#### 1.4.2. No vamos a filtrar los NaN's de la feature DepartmentDescription"
   ]
  },
  {
   "cell_type": "markdown",
   "metadata": {},
   "source": [
    "#### 1.4.3. Eliminamos la feature FinelineNumber porque no parece relevante para el procesoo"
   ]
  },
  {
   "cell_type": "markdown",
   "metadata": {},
   "source": [
    "#### 1.4.4. Reemplazamos los valores NaN de la feature Upc por la moda ya que se trata de una variable numerica discreta"
   ]
  },
  {
   "cell_type": "markdown",
   "metadata": {},
   "source": [
    "#### 1.4.5. We may have multiple records for one single visit and the goal is to classify all those records the exact same way. Therefore, we will prepare the data in a way that all the information for a visit is in the same record."
   ]
  },
  {
   "cell_type": "markdown",
   "metadata": {},
   "source": [
    "#### 1.4.6. Eliminaremos los outliers de la variable ScanCount con más de 15 desviaciones de la media"
   ]
  },
  {
   "cell_type": "markdown",
   "metadata": {},
   "source": [
    "#### 1.4.7. Based on the last bullet, we will count the DepartmentDescription for all items acquired in the same visit."
   ]
  },
  {
   "cell_type": "markdown",
   "metadata": {},
   "source": [
    "#### 1.4.8. Para probar los distintos modelos tomaremos la mitad del dataset en forma aleatoria para que la verificacion y validacion de cada modelo no sea tan lenta"
   ]
  },
  {
   "cell_type": "markdown",
   "metadata": {},
   "source": [
    "The following operations will be performed in a function. Anyway, we present them here so that we can see them in action:\n",
    "\n",
    "First, we drop the columns. We include TripType as we are going to treat it differently:"
   ]
  },
  {
   "cell_type": "code",
   "execution_count": null,
   "metadata": {},
   "outputs": [],
   "source": [
    "df = original_df.drop([\"FinelineNumber\", \"TripType\"], axis=1)\n",
    "\n",
    "df"
   ]
  },
  {
   "cell_type": "markdown",
   "metadata": {},
   "source": [
    "Now, we create the dummy columns"
   ]
  },
  {
   "cell_type": "code",
   "execution_count": null,
   "metadata": {},
   "outputs": [],
   "source": [
    "df = pd.get_dummies(df, columns=[\"DepartmentDescription\"], dummy_na=True)\n",
    "\n",
    "df"
   ]
  },
  {
   "cell_type": "markdown",
   "metadata": {},
   "source": [
    "Now, we group by the VisitNumber and Weekday (they should be the same), and add all values for ScanCount, and the one-hot encoding of DepartmentDescriptioin"
   ]
  },
  {
   "cell_type": "code",
   "execution_count": null,
   "metadata": {},
   "outputs": [],
   "source": [
    "df = df.groupby([\"VisitNumber\", \"Weekday\"], as_index=False).sum()\n",
    "\n",
    "df"
   ]
  },
  {
   "cell_type": "code",
   "execution_count": null,
   "metadata": {},
   "outputs": [],
   "source": [
    "df = pd.get_dummies(df, columns=[\"Weekday\"], dummy_na=True)\n",
    "df"
   ]
  },
  {
   "cell_type": "markdown",
   "metadata": {},
   "source": [
    "La funcion que creemos contendra los puntos definidos para cada una de las decisiones que se tomaron sobre el dataset"
   ]
  },
  {
   "cell_type": "code",
   "execution_count": null,
   "metadata": {},
   "outputs": [],
   "source": [
    "def transform_data(train_data_fname, test_data_fname):\n",
    "    \n",
    "    df_train = pd.read_csv(train_data_fname)#, nrows=200000)\n",
    "    y = df_train\n",
    "    df_train['is_train_set'] = 1\n",
    "    df_test = pd.read_csv(test_data_fname)#, nrows=100000)\n",
    "    df_test['is_train_set'] = 0\n",
    "    \n",
    "    # 1.4.7\n",
    "    # we  get the TripType for the train set. To do that, we group by VisitNumber and\n",
    "    # then we get the max (or min or avg)\n",
    "    # Para el set de test saco las columnas DepartmentDescription en NaN\n",
    "    y = y[pd.notnull(y['DepartmentDescription'])]\n",
    "    # Elimino los outliers\n",
    "    y_clean = clean_outliers(y, \"ScanCount\")\n",
    "    y = y_clean\n",
    "    \n",
    "    # Agrupo el dataset\n",
    "    y = y.groupby([\"VisitNumber\", \"Weekday\"], as_index=False).max().TripType\n",
    "    \n",
    "    # the concat is done so that we have the same columns for both datasets\n",
    "    # after one-hot encoding\n",
    "    df = pd.concat([df_train, df_test])\n",
    "    \n",
    "    # 1.4.2 Eliminamos los nulos de la columna DepartmentDescription\n",
    "    df_notna = df[pd.notnull(df['DepartmentDescription'])]\n",
    "    \n",
    "    # the next three operations are the ones we have just presented in the previous lines\n",
    "    \n",
    "    # 1.4.3\n",
    "    # drop the columns we won't use (it may be good to use them somehow)\n",
    "    #df = df.drop([\"FinelineNumber\"], axis=1)\n",
    "    df_notna = df_notna.drop([\"FinelineNumber\"], axis=1)\n",
    "    \n",
    "    # 1.4.4 Reemplazamos los valores faltantes de Upc por la Moda\n",
    "    #df.fillna({'Upc': original_df.Upc.mode()[0]}, inplace=True)\n",
    "    df_notna.fillna({'Upc': original_df.Upc.mode()[0]}, inplace=True)\n",
    "\n",
    "    # 1.4.1\n",
    "    # one-hot encoding for the DepartmentDescription\n",
    "    #df = pd.get_dummies(df, columns=[\"DepartmentDescription\"], dummy_na=True)\n",
    "    df_notna = pd.get_dummies(df_notna, columns=[\"DepartmentDescription\"], dummy_na=True)\n",
    "    \n",
    "    # 1.4.6 Eliminamos los outliers de ScanCount\n",
    "    #df_clean = clean_outliers(df, \"ScanCount\")\n",
    "    df_clean = clean_outliers(df_notna, \"ScanCount\")\n",
    "            \n",
    "    # 1.4.5\n",
    "    # now we add the groupby values\n",
    "    df_clean = df_clean.groupby([\"VisitNumber\", \"Weekday\"], as_index=False).sum()\n",
    "    \n",
    "    # 1.4.1\n",
    "    # finally, we do one-hot encoding for the Weekday\n",
    "    df_clean = pd.get_dummies(df_clean, columns=[\"Weekday\"], dummy_na=True)\n",
    "\n",
    "    # get train and test back\n",
    "    df_train = df_clean[df_clean.is_train_set != 0]\n",
    "    df_test = df_clean[df_clean.is_train_set == 0]\n",
    "\n",
    "    # we remove the TripType now, and concat training and testing data  NO SE SI VA A HACER LO MISMO....\n",
    "    df_train = df_train.drop(\"TripType\", axis=1)\n",
    "    df_test = df_test.drop(\"TripType\", axis=1)\n",
    "    \n",
    "    X = df_train.drop([\"is_train_set\"], axis=1)\n",
    "    yy = None\n",
    "    XX = df_test.drop([\"is_train_set\"], axis=1)\n",
    "\n",
    "    return X, y, XX, yy"
   ]
  },
  {
   "cell_type": "markdown",
   "metadata": {},
   "source": [
    "Load the data..."
   ]
  },
  {
   "cell_type": "code",
   "execution_count": null,
   "metadata": {},
   "outputs": [],
   "source": [
    "X, y, XX, yy = transform_data(\"../data/train.csv\", \"../data/test.csv\")\n",
    "#X, y, XX, yy = transform_data(r\"E:\\anaconda3\\envs\\aprendizajesupervisado\\train.csv\", r\"E:\\anaconda3\\envs\\aprendizajesupervisado\\test.csv\")"
   ]
  },
  {
   "cell_type": "code",
   "execution_count": null,
   "metadata": {},
   "outputs": [],
   "source": [
    "X.shape, y.shape, XX.shape"
   ]
  },
  {
   "cell_type": "markdown",
   "metadata": {},
   "source": [
    "### 2. Try different models and see which one fits the best the given data"
   ]
  },
  {
   "cell_type": "markdown",
   "metadata": {},
   "source": [
    "**DESBALANCEO DE DATOS**\n",
    "Podemos optar por alguno de estos dos metodos para balancearlos\n",
    "\n",
    "*Ajuste de Parámetros del modelo*: Consiste en ajustar parametros ó metricas del propio algoritmo para intentar equilibrar a la clase minoritaria penalizando a la clase mayoritaria durante el entrenamiento. Ejemplos on ajuste de peso en árboles, también en logisticregression tenemos el parámetro class_weight= “balanced” que utilizaremos en este ejemplo. No todos los algoritmos tienen estas posibilidades. En redes neuronales por ejemplo podríamos ajustar la métrica de Loss para que penalice a las clases mayoritarias.\n",
    "\n",
    "*Balanced Ensemble Methods*: Utiliza las ventajas de hacer ensamble de métodos, es decir, entrenar diversos modelos y entre todos obtener el resultado final (por ejemplo “votando”) pero se asegura de tomar muestras de entrenamiento equilibradas."
   ]
  },
  {
   "cell_type": "markdown",
   "metadata": {},
   "source": [
    "Create the model and evaluate it"
   ]
  },
  {
   "cell_type": "markdown",
   "metadata": {},
   "source": [
    "#### 2.1 Dividir los dataset en entrenamiento y test"
   ]
  },
  {
   "cell_type": "code",
   "execution_count": null,
   "metadata": {},
   "outputs": [],
   "source": [
    "# split training dataset into train and \"validation\" \n",
    "# (we won't be using validation set in this example, because of the cross-validation;\n",
    "# but it could be useful for you depending on your approach)\n",
    "\n",
    "X_train, X_valid, y_train, y_valid = train_test_split(X, y, test_size=0.3, random_state=0)\n",
    "#X_train, X_valid, y_train, y_valid = train_test_split(X, y, test_size=0.4, random_state=0)"
   ]
  },
  {
   "cell_type": "code",
   "execution_count": null,
   "metadata": {},
   "outputs": [],
   "source": [
    "# results dataframe is used to store the computed results\n",
    "res_acc_df = pd.DataFrame(columns=('description', 'clf', 'best_acc'))"
   ]
  },
  {
   "cell_type": "markdown",
   "metadata": {},
   "source": [
    "#### 2.2 Modelo Decision Tree"
   ]
  },
  {
   "cell_type": "markdown",
   "metadata": {},
   "source": [
    "##### 2.2.1 Setear Hiperparametros, entrenar y seleccionar el Mejor Modelo"
   ]
  },
  {
   "cell_type": "code",
   "execution_count": null,
   "metadata": {},
   "outputs": [],
   "source": [
    "# we will use a DesicionTree to classify and GridSearch to determine the parameters\n",
    "tree_param = {\n",
    "              'criterion':('gini', 'entropy'), \n",
    "              'min_samples_leaf':(1, 2, 5),\n",
    "              'min_samples_split':(2, 3, 5, 10, 50, 100),\n",
    "              'random_state':(0, 1, 2, 42)\n",
    "             }\n",
    "\n",
    "model_tree = DT()\n",
    "\n",
    "tree_clf = GridSearchCV(model_tree, tree_param, cv=3, scoring='accuracy') #scoring='balanced_accuracy')"
   ]
  },
  {
   "cell_type": "code",
   "execution_count": null,
   "metadata": {},
   "outputs": [],
   "source": [
    "tree_clf.fit(X_train, y_train)"
   ]
  },
  {
   "cell_type": "code",
   "execution_count": null,
   "metadata": {},
   "outputs": [],
   "source": [
    "# results dataframe is used to store the computed results\n",
    "results = tree_clf.cv_results_\n",
    "    \n",
    "df = pd.DataFrame(results)\n",
    "df_result = df[['param_criterion', 'param_min_samples_leaf', 'param_min_samples_split', 'mean_test_score', 'std_test_score', 'rank_test_score']]\n",
    "df_result"
   ]
  },
  {
   "cell_type": "code",
   "execution_count": null,
   "metadata": {},
   "outputs": [],
   "source": [
    "# Seleccionar el modelo con mean_test_score mas alto y menor varianza\n",
    "df_bm = df_result[df_result['rank_test_score'] == 1]\n",
    "df_bm"
   ]
  },
  {
   "cell_type": "code",
   "execution_count": null,
   "metadata": {},
   "outputs": [],
   "source": [
    "best_tree_clf = tree_clf.best_estimator_\n",
    "bestpar = tree_clf.best_params_\n",
    "\n",
    "print('Mejor Modelo\\n', best_tree_clf)\n",
    "print('Mejores Parametros\\n', bestpar)"
   ]
  },
  {
   "cell_type": "code",
   "execution_count": null,
   "metadata": {},
   "outputs": [],
   "source": [
    "print('Best Decision Tree accuracy: ', tree_clf.best_score_)\n",
    "res_acc_df = res_acc_df.append({'description': 'modelo dt first run', 'clf': best_tree_clf, 'best_acc': tree_clf.best_score_}, ignore_index=True)"
   ]
  },
  {
   "cell_type": "code",
   "execution_count": null,
   "metadata": {},
   "outputs": [],
   "source": [
    "res_acc_df"
   ]
  },
  {
   "cell_type": "markdown",
   "metadata": {},
   "source": [
    "#### 2.3 Modelo Naive Bayes"
   ]
  },
  {
   "cell_type": "markdown",
   "metadata": {},
   "source": [
    "##### 2.3.1 Setear Hiperparametros, entrenar y seleccionar el Mejor Modelo"
   ]
  },
  {
   "cell_type": "code",
   "execution_count": null,
   "metadata": {},
   "outputs": [],
   "source": [
    "X_train, X_valid, y_train, y_valid = train_test_split(X, y, test_size=0.4, random_state=0)"
   ]
  },
  {
   "cell_type": "code",
   "execution_count": null,
   "metadata": {},
   "outputs": [],
   "source": [
    "X_train.ScanCount[X_train.ScanCount < 0 ] = 0"
   ]
  },
  {
   "cell_type": "code",
   "execution_count": null,
   "metadata": {},
   "outputs": [],
   "source": [
    "modelNB = MultinomialNB().fit(X_train, y_train)"
   ]
  },
  {
   "cell_type": "code",
   "execution_count": null,
   "metadata": {},
   "outputs": [],
   "source": [
    "X_train.shape, y_train.shape"
   ]
  },
  {
   "cell_type": "code",
   "execution_count": null,
   "metadata": {},
   "outputs": [],
   "source": [
    "y_train_pred=modelNB.predict(X_train)"
   ]
  },
  {
   "cell_type": "code",
   "execution_count": null,
   "metadata": {},
   "outputs": [],
   "source": [
    "acc_score = accuracy_score(y_train, y_train_pred)\n",
    "\n",
    "print('Naive Bayes accuracy: ', acc_score)\n",
    "res_acc_df = res_acc_df.append({'description': 'modelo nv second run', 'clf': 'default', 'best_acc': acc_score}, ignore_index=True)"
   ]
  },
  {
   "cell_type": "code",
   "execution_count": null,
   "metadata": {},
   "outputs": [],
   "source": [
    "res_acc_df"
   ]
  },
  {
   "cell_type": "markdown",
   "metadata": {},
   "source": [
    "#### 2.4 Modelo Random Forest"
   ]
  },
  {
   "cell_type": "markdown",
   "metadata": {},
   "source": [
    "##### 2.4.1 Setear Hiperparametros, entrenar y seleccionar el Mejor Modelo"
   ]
  },
  {
   "cell_type": "code",
   "execution_count": null,
   "metadata": {},
   "outputs": [],
   "source": [
    "rf_param = {\n",
    "              'criterion':('gini', 'entropy'), \n",
    "              'min_samples_leaf':(1, 2, 5),\n",
    "              'min_samples_split':(2, 3, 5, 10, 50, 100),\n",
    "              'random_state': [0,1,2],\n",
    "              'n_estimators': [50,75,100],\n",
    "              'class_weight' : ('balanced', 'balanced_subsample')\n",
    "            }\n",
    "\n",
    "model_rf = RandomForestClassifier()\n",
    "rf_clf = GridSearchCV(model_rf, rf_param, cv=3, scoring='accuracy') #scoring='balanced_accuracy')"
   ]
  },
  {
   "cell_type": "code",
   "execution_count": null,
   "metadata": {},
   "outputs": [],
   "source": [
    "rf_clf.fit(X_train, y_train)"
   ]
  },
  {
   "cell_type": "code",
   "execution_count": null,
   "metadata": {},
   "outputs": [],
   "source": [
    "# results dataframe is used to store the computed results\n",
    "results = rf_clf.cv_results_\n",
    "    \n",
    "df = pd.DataFrame(results)\n",
    "df_result = df[['param_criterion', 'param_min_samples_leaf', 'param_min_samples_split', 'param_random_state', 'param_n_estimators', 'param_class_weight', 'mean_test_score', 'std_test_score', 'rank_test_score']]\n",
    "df_result"
   ]
  },
  {
   "cell_type": "code",
   "execution_count": null,
   "metadata": {},
   "outputs": [],
   "source": [
    "# Seleccionar el modelo con mean_test_score mas alto y menor varianza\n",
    "df_bm = df_result[df_result['rank_test_score'] == 1]\n",
    "df_bm"
   ]
  },
  {
   "cell_type": "code",
   "execution_count": null,
   "metadata": {},
   "outputs": [],
   "source": [
    "best_rf_clf = rf_clf.best_estimator_\n",
    "bestpar = rf_clf.best_params_\n",
    "\n",
    "print('Mejor Modelo\\n', best_rf_clf)\n",
    "print('Mejores Parametros\\n', bestpar)"
   ]
  },
  {
   "cell_type": "code",
   "execution_count": null,
   "metadata": {},
   "outputs": [],
   "source": [
    "print('Best Regression Logistic accuracy: ', rf_clf.best_score_)\n",
    "res_acc_df = res_acc_df.append({'description': 'modelo rf third run', 'clf': rf_clf, 'best_acc': rf_clf.best_score_}, ignore_index=True)"
   ]
  },
  {
   "cell_type": "code",
   "execution_count": null,
   "metadata": {},
   "outputs": [],
   "source": [
    "res_acc_df"
   ]
  },
  {
   "cell_type": "markdown",
   "metadata": {},
   "source": [
    "#### 2.5 Modelo Boosting with xgboost"
   ]
  },
  {
   "cell_type": "markdown",
   "metadata": {},
   "source": [
    "##### 2.5.1 Setear Hiperparametros, entrenar y seleccionar el Mejor Modelo"
   ]
  },
  {
   "cell_type": "code",
   "execution_count": null,
   "metadata": {},
   "outputs": [],
   "source": [
    "xg_reg = xgb.XGBRegressor(objective ='reg:squarederror', colsample_bytree = 0.3, learning_rate = 0.1,\n",
    "                          max_depth = 5, alpha = 10, n_estimators = 10)"
   ]
  },
  {
   "cell_type": "code",
   "execution_count": null,
   "metadata": {},
   "outputs": [],
   "source": [
    "xg_reg.fit(X_train,y_train)"
   ]
  },
  {
   "cell_type": "code",
   "execution_count": null,
   "metadata": {},
   "outputs": [],
   "source": [
    "y_train_pred = xg_reg.predict(X_train)"
   ]
  },
  {
   "cell_type": "code",
   "execution_count": null,
   "metadata": {},
   "outputs": [],
   "source": [
    "mse = mean_squared_error(y_train, y_train_pred)\n",
    "print(\"MSE: %f\" % (mse))"
   ]
  },
  {
   "cell_type": "code",
   "execution_count": null,
   "metadata": {},
   "outputs": [],
   "source": [
    "y_valid_pred = xg_reg.predict(X_valid)"
   ]
  },
  {
   "cell_type": "code",
   "execution_count": null,
   "metadata": {},
   "outputs": [],
   "source": [
    "y_valid.shape, y_valid_pred.shape"
   ]
  },
  {
   "cell_type": "code",
   "execution_count": null,
   "metadata": {},
   "outputs": [],
   "source": [
    "pred=[round(value) for value in y_valid_pred]"
   ]
  },
  {
   "cell_type": "code",
   "execution_count": null,
   "metadata": {},
   "outputs": [],
   "source": [
    "acc_score = accuracy_score(y_valid, pred)"
   ]
  },
  {
   "cell_type": "code",
   "execution_count": null,
   "metadata": {},
   "outputs": [],
   "source": [
    "print('Boosting accuracy: ', acc_score)\n",
    "res_acc_df = res_acc_df.append({'description': 'modelo boosting fourth run', 'objective =reg:squarederror, colsample_bytree = 0.3, learning_rate = 0.1, max_depth = 5, alpha = 10, n_estimators = 10': 'default', 'best_acc': acc_score}, ignore_index=True)"
   ]
  },
  {
   "cell_type": "code",
   "execution_count": null,
   "metadata": {},
   "outputs": [],
   "source": [
    "res_acc_df"
   ]
  },
  {
   "cell_type": "code",
   "execution_count": null,
   "metadata": {},
   "outputs": [],
   "source": [
    "X.shape, XX.shape"
   ]
  },
  {
   "cell_type": "markdown",
   "metadata": {},
   "source": [
    "#### 2.6 Modelo Ensemble with DT"
   ]
  },
  {
   "cell_type": "markdown",
   "metadata": {},
   "source": [
    "##### 2.6.1 Setear Hiperparametros, entrenar y seleccionar el Mejor Modelo"
   ]
  },
  {
   "cell_type": "code",
   "execution_count": null,
   "metadata": {},
   "outputs": [],
   "source": [
    "bbc = BalancedBaggingClassifier(base_estimator=DT(),\n",
    "                                sampling_strategy='auto',\n",
    "                                replacement=False,\n",
    "                                random_state=0)"
   ]
  },
  {
   "cell_type": "code",
   "execution_count": null,
   "metadata": {},
   "outputs": [],
   "source": [
    "#Train the classifier.\n",
    "bbc.fit(X_train, y_train)"
   ]
  },
  {
   "cell_type": "code",
   "execution_count": null,
   "metadata": {},
   "outputs": [],
   "source": [
    "y_valid_pred = bbc.predict(X_valid)"
   ]
  },
  {
   "cell_type": "code",
   "execution_count": null,
   "metadata": {},
   "outputs": [],
   "source": [
    "y_valid.shape, y_valid_pred.shape"
   ]
  },
  {
   "cell_type": "code",
   "execution_count": null,
   "metadata": {},
   "outputs": [],
   "source": [
    "pred=[round(value) for value in y_valid_pred]"
   ]
  },
  {
   "cell_type": "code",
   "execution_count": null,
   "metadata": {},
   "outputs": [],
   "source": [
    "acc_score = accuracy_score(y_valid, pred)"
   ]
  },
  {
   "cell_type": "code",
   "execution_count": null,
   "metadata": {},
   "outputs": [],
   "source": [
    "print('Ensemble accuracy: ', acc_score)\n",
    "res_acc_df = res_acc_df.append({'description': 'modelo ensemble fifth run', 'clf': 'base_estimator=DT(), sampling_strategy=auto, replacement=False, random_state=0', 'best_acc': acc_score}, ignore_index=True)"
   ]
  },
  {
   "cell_type": "markdown",
   "metadata": {},
   "source": [
    "**And finally**, we predict the unknown label for the testing set"
   ]
  },
  {
   "cell_type": "markdown",
   "metadata": {},
   "source": [
    "The last thing we do is generating a file that should be *submitted* on kaggle"
   ]
  },
  {
   "cell_type": "code",
   "execution_count": null,
   "metadata": {},
   "outputs": [],
   "source": [
    "#submission = pd.DataFrame(list(zip(XX.VisitNumber, yy)), columns=[\"VisitNumber\", \"TripType\"])"
   ]
  },
  {
   "cell_type": "code",
   "execution_count": null,
   "metadata": {},
   "outputs": [],
   "source": [
    "#submission.to_csv(\"../data/submission.csv\", header=True, index=False)"
   ]
  },
  {
   "cell_type": "code",
   "execution_count": null,
   "metadata": {},
   "outputs": [],
   "source": [
    "#submission"
   ]
  },
  {
   "cell_type": "code",
   "execution_count": null,
   "metadata": {},
   "outputs": [],
   "source": []
  }
 ],
 "metadata": {
  "kernelspec": {
   "display_name": "Python 3",
   "language": "python",
   "name": "python3"
  },
  "language_info": {
   "codemirror_mode": {
    "name": "ipython",
    "version": 3
   },
   "file_extension": ".py",
   "mimetype": "text/x-python",
   "name": "python",
   "nbconvert_exporter": "python",
   "pygments_lexer": "ipython3",
   "version": "3.6.10"
  }
 },
 "nbformat": 4,
 "nbformat_minor": 4
}
